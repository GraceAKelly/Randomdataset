{
 "cells": [
  {
   "cell_type": "markdown",
   "metadata": {},
   "source": [
    "# Generation of a random data set\n",
    "\n",
    "![Numpy](https://cdn-images-1.medium.com/max/1200/1*L0yNfRdiH8DfYuiJTKPxww.png)\n",
    "\n",
    "The following is a dataset synthesised using Python. It is a randomly generated simulation of data based on real life phenomenon. The basis of the data set is manufacturing data containing a manufatured batch number with corresponding location, name of person responsible for ensuring targets are met, the current status of the manufatured batch and a target customer delivery date.  \n",
    "\n",
    "One hundred random **batch** numbers have been generated. The **status** of the batches fall into 3 different categories: on hold, on status and released. Each status has a different probability level: on hold (0.15), on status (0.35) and released (0.5). The probability is based on the maufacturing process being less likely to have an issue on a manufactured batch resulting in a batch being placed 'on hold'. 'On status' is an interim dispostion of a manufactred batch prior to being released but with no known issue. \n",
    "\n",
    "The current **location** of each batch is defined as per: Warehouse, Dock or Shipped. Each location is as likely as the others to be chosen as the manufactured batches move through the process.  \n",
    "\n",
    "The **target** date is the date expected for each batch to be delivered to the customer.\n",
    "\n",
    "The employee **responsible** for meeting the target of each batch is outlined. The probability of each employee is the evenly distributed (5 employees with 0.2 probability) to be assigned responsibility for meeting the target date. \n"
   ]
  },
  {
   "cell_type": "code",
   "execution_count": 1,
   "metadata": {
    "collapsed": true
   },
   "outputs": [],
   "source": [
    "import numpy as np #Numerical Python\n",
    "import pandas as pd\n",
    "import matplotlib.pyplot as plt  # shorthand import for matplotlib library\n",
    "import seaborn as sns # import seaborn for advanced graphics"
   ]
  },
  {
   "cell_type": "code",
   "execution_count": 2,
   "metadata": {},
   "outputs": [
    {
     "data": {
      "text/plain": [
       "array([1885, 1339, 1272, 1739, 1888, 1169, 1009, 1761, 1807, 1350, 1722,\n",
       "       1806, 1688, 1111, 1429, 1020, 1041, 1321, 1199, 1467, 1896, 1503,\n",
       "       1332, 1411, 1231, 1353, 1462, 1617, 1564, 1449, 1178, 1936, 1391,\n",
       "       1386, 1725, 1172, 1526, 1727, 1206, 1313, 1441, 1771, 1004, 1506,\n",
       "       1685, 1558, 1095, 1990, 1863, 1488, 1317, 1009, 1131, 1386, 1758,\n",
       "       1052, 1897, 1079, 1130, 1060, 1360, 1656, 1733, 1007, 1385, 1105,\n",
       "       1619, 1033, 1664, 1892, 1987, 1927, 1970, 1300, 1576, 1188, 1892,\n",
       "       1227, 1456, 1403, 1498, 1888, 1855, 1014, 1141, 1307, 1700, 1275,\n",
       "       1262, 1988, 1648, 1765, 1644, 1102, 1402, 1157, 1825, 1448, 1643,\n",
       "       1405])"
      ]
     },
     "execution_count": 2,
     "metadata": {},
     "output_type": "execute_result"
    }
   ],
   "source": [
    "Batch = np.random.randint(1000, 2000, size=100)\n",
    "Batch"
   ]
  },
  {
   "cell_type": "code",
   "execution_count": 3,
   "metadata": {
    "collapsed": true
   },
   "outputs": [],
   "source": [
    "Target = pd.date_range(start='12/01/2018', periods=31)\n",
    "Targets = np.random.choice(Target, 100)"
   ]
  },
  {
   "cell_type": "code",
   "execution_count": 4,
   "metadata": {
    "collapsed": true
   },
   "outputs": [],
   "source": [
    "Status = [\"On Hold\", \"On Status\", \"Released\"]\n",
    "Statuss = np.random.choice(Status, 100, p=[0.15, 0.35, 0.50])"
   ]
  },
  {
   "cell_type": "code",
   "execution_count": 5,
   "metadata": {
    "collapsed": true
   },
   "outputs": [],
   "source": [
    "Location = [\"Shipped\", \"Dock\", \"Warehouse\"]\n",
    "Locations = np.random.choice(Location, 100, p=[0.34, 0.33, 0.33])"
   ]
  },
  {
   "cell_type": "code",
   "execution_count": 6,
   "metadata": {
    "collapsed": true
   },
   "outputs": [],
   "source": [
    "Responsible = [\"John Jones\", \"Mary O'Toole\", \"David Murphy\", \"Emily Walsh\",\"James Healy\"]\n",
    "Responsibles = np.random.choice(Responsible, 100,  p=[0.2, 0.2, 0.2, 0.2, 0.2])"
   ]
  },
  {
   "cell_type": "code",
   "execution_count": 7,
   "metadata": {
    "collapsed": true
   },
   "outputs": [],
   "source": [
    "data = {'Batch':Batch,'Target':Targets,'Status':Statuss,'Location':Locations,'Responsible':Responsibles}"
   ]
  },
  {
   "cell_type": "code",
   "execution_count": 8,
   "metadata": {},
   "outputs": [
    {
     "data": {
      "text/html": [
       "<div>\n",
       "<style>\n",
       "    .dataframe thead tr:only-child th {\n",
       "        text-align: right;\n",
       "    }\n",
       "\n",
       "    .dataframe thead th {\n",
       "        text-align: left;\n",
       "    }\n",
       "\n",
       "    .dataframe tbody tr th {\n",
       "        vertical-align: top;\n",
       "    }\n",
       "</style>\n",
       "<table border=\"1\" class=\"dataframe\">\n",
       "  <thead>\n",
       "    <tr style=\"text-align: right;\">\n",
       "      <th></th>\n",
       "      <th>Batch</th>\n",
       "      <th>Location</th>\n",
       "      <th>Responsible</th>\n",
       "      <th>Status</th>\n",
       "      <th>Target</th>\n",
       "    </tr>\n",
       "  </thead>\n",
       "  <tbody>\n",
       "    <tr>\n",
       "      <th>0</th>\n",
       "      <td>1885</td>\n",
       "      <td>Shipped</td>\n",
       "      <td>Emily Walsh</td>\n",
       "      <td>On Status</td>\n",
       "      <td>2018-12-29</td>\n",
       "    </tr>\n",
       "    <tr>\n",
       "      <th>1</th>\n",
       "      <td>1339</td>\n",
       "      <td>Warehouse</td>\n",
       "      <td>Mary O'Toole</td>\n",
       "      <td>On Hold</td>\n",
       "      <td>2018-12-16</td>\n",
       "    </tr>\n",
       "    <tr>\n",
       "      <th>2</th>\n",
       "      <td>1272</td>\n",
       "      <td>Shipped</td>\n",
       "      <td>James Healy</td>\n",
       "      <td>Released</td>\n",
       "      <td>2018-12-23</td>\n",
       "    </tr>\n",
       "    <tr>\n",
       "      <th>3</th>\n",
       "      <td>1739</td>\n",
       "      <td>Warehouse</td>\n",
       "      <td>David Murphy</td>\n",
       "      <td>Released</td>\n",
       "      <td>2018-12-01</td>\n",
       "    </tr>\n",
       "    <tr>\n",
       "      <th>4</th>\n",
       "      <td>1888</td>\n",
       "      <td>Dock</td>\n",
       "      <td>James Healy</td>\n",
       "      <td>Released</td>\n",
       "      <td>2018-12-30</td>\n",
       "    </tr>\n",
       "    <tr>\n",
       "      <th>5</th>\n",
       "      <td>1169</td>\n",
       "      <td>Dock</td>\n",
       "      <td>James Healy</td>\n",
       "      <td>On Status</td>\n",
       "      <td>2018-12-24</td>\n",
       "    </tr>\n",
       "    <tr>\n",
       "      <th>6</th>\n",
       "      <td>1009</td>\n",
       "      <td>Shipped</td>\n",
       "      <td>James Healy</td>\n",
       "      <td>Released</td>\n",
       "      <td>2018-12-28</td>\n",
       "    </tr>\n",
       "    <tr>\n",
       "      <th>7</th>\n",
       "      <td>1761</td>\n",
       "      <td>Shipped</td>\n",
       "      <td>James Healy</td>\n",
       "      <td>Released</td>\n",
       "      <td>2018-12-28</td>\n",
       "    </tr>\n",
       "    <tr>\n",
       "      <th>8</th>\n",
       "      <td>1807</td>\n",
       "      <td>Warehouse</td>\n",
       "      <td>John Jones</td>\n",
       "      <td>On Hold</td>\n",
       "      <td>2018-12-15</td>\n",
       "    </tr>\n",
       "    <tr>\n",
       "      <th>9</th>\n",
       "      <td>1350</td>\n",
       "      <td>Shipped</td>\n",
       "      <td>James Healy</td>\n",
       "      <td>Released</td>\n",
       "      <td>2018-12-01</td>\n",
       "    </tr>\n",
       "    <tr>\n",
       "      <th>10</th>\n",
       "      <td>1722</td>\n",
       "      <td>Warehouse</td>\n",
       "      <td>James Healy</td>\n",
       "      <td>On Status</td>\n",
       "      <td>2018-12-27</td>\n",
       "    </tr>\n",
       "    <tr>\n",
       "      <th>11</th>\n",
       "      <td>1806</td>\n",
       "      <td>Warehouse</td>\n",
       "      <td>Emily Walsh</td>\n",
       "      <td>On Status</td>\n",
       "      <td>2018-12-23</td>\n",
       "    </tr>\n",
       "    <tr>\n",
       "      <th>12</th>\n",
       "      <td>1688</td>\n",
       "      <td>Dock</td>\n",
       "      <td>James Healy</td>\n",
       "      <td>On Status</td>\n",
       "      <td>2018-12-04</td>\n",
       "    </tr>\n",
       "    <tr>\n",
       "      <th>13</th>\n",
       "      <td>1111</td>\n",
       "      <td>Dock</td>\n",
       "      <td>John Jones</td>\n",
       "      <td>On Status</td>\n",
       "      <td>2018-12-24</td>\n",
       "    </tr>\n",
       "    <tr>\n",
       "      <th>14</th>\n",
       "      <td>1429</td>\n",
       "      <td>Shipped</td>\n",
       "      <td>David Murphy</td>\n",
       "      <td>On Status</td>\n",
       "      <td>2018-12-25</td>\n",
       "    </tr>\n",
       "    <tr>\n",
       "      <th>15</th>\n",
       "      <td>1020</td>\n",
       "      <td>Dock</td>\n",
       "      <td>John Jones</td>\n",
       "      <td>On Status</td>\n",
       "      <td>2018-12-04</td>\n",
       "    </tr>\n",
       "    <tr>\n",
       "      <th>16</th>\n",
       "      <td>1041</td>\n",
       "      <td>Dock</td>\n",
       "      <td>Emily Walsh</td>\n",
       "      <td>Released</td>\n",
       "      <td>2018-12-17</td>\n",
       "    </tr>\n",
       "    <tr>\n",
       "      <th>17</th>\n",
       "      <td>1321</td>\n",
       "      <td>Dock</td>\n",
       "      <td>John Jones</td>\n",
       "      <td>On Status</td>\n",
       "      <td>2018-12-06</td>\n",
       "    </tr>\n",
       "    <tr>\n",
       "      <th>18</th>\n",
       "      <td>1199</td>\n",
       "      <td>Shipped</td>\n",
       "      <td>Emily Walsh</td>\n",
       "      <td>On Status</td>\n",
       "      <td>2018-12-09</td>\n",
       "    </tr>\n",
       "    <tr>\n",
       "      <th>19</th>\n",
       "      <td>1467</td>\n",
       "      <td>Warehouse</td>\n",
       "      <td>David Murphy</td>\n",
       "      <td>On Status</td>\n",
       "      <td>2018-12-09</td>\n",
       "    </tr>\n",
       "    <tr>\n",
       "      <th>20</th>\n",
       "      <td>1896</td>\n",
       "      <td>Dock</td>\n",
       "      <td>James Healy</td>\n",
       "      <td>On Status</td>\n",
       "      <td>2018-12-09</td>\n",
       "    </tr>\n",
       "    <tr>\n",
       "      <th>21</th>\n",
       "      <td>1503</td>\n",
       "      <td>Warehouse</td>\n",
       "      <td>Emily Walsh</td>\n",
       "      <td>On Status</td>\n",
       "      <td>2018-12-25</td>\n",
       "    </tr>\n",
       "    <tr>\n",
       "      <th>22</th>\n",
       "      <td>1332</td>\n",
       "      <td>Warehouse</td>\n",
       "      <td>James Healy</td>\n",
       "      <td>Released</td>\n",
       "      <td>2018-12-03</td>\n",
       "    </tr>\n",
       "    <tr>\n",
       "      <th>23</th>\n",
       "      <td>1411</td>\n",
       "      <td>Warehouse</td>\n",
       "      <td>John Jones</td>\n",
       "      <td>Released</td>\n",
       "      <td>2018-12-07</td>\n",
       "    </tr>\n",
       "    <tr>\n",
       "      <th>24</th>\n",
       "      <td>1231</td>\n",
       "      <td>Warehouse</td>\n",
       "      <td>David Murphy</td>\n",
       "      <td>On Status</td>\n",
       "      <td>2018-12-16</td>\n",
       "    </tr>\n",
       "    <tr>\n",
       "      <th>25</th>\n",
       "      <td>1353</td>\n",
       "      <td>Dock</td>\n",
       "      <td>John Jones</td>\n",
       "      <td>Released</td>\n",
       "      <td>2018-12-18</td>\n",
       "    </tr>\n",
       "    <tr>\n",
       "      <th>26</th>\n",
       "      <td>1462</td>\n",
       "      <td>Shipped</td>\n",
       "      <td>Emily Walsh</td>\n",
       "      <td>On Hold</td>\n",
       "      <td>2018-12-18</td>\n",
       "    </tr>\n",
       "    <tr>\n",
       "      <th>27</th>\n",
       "      <td>1617</td>\n",
       "      <td>Shipped</td>\n",
       "      <td>Emily Walsh</td>\n",
       "      <td>On Hold</td>\n",
       "      <td>2018-12-19</td>\n",
       "    </tr>\n",
       "    <tr>\n",
       "      <th>28</th>\n",
       "      <td>1564</td>\n",
       "      <td>Dock</td>\n",
       "      <td>Emily Walsh</td>\n",
       "      <td>On Status</td>\n",
       "      <td>2018-12-20</td>\n",
       "    </tr>\n",
       "    <tr>\n",
       "      <th>29</th>\n",
       "      <td>1449</td>\n",
       "      <td>Warehouse</td>\n",
       "      <td>James Healy</td>\n",
       "      <td>On Status</td>\n",
       "      <td>2018-12-07</td>\n",
       "    </tr>\n",
       "    <tr>\n",
       "      <th>...</th>\n",
       "      <td>...</td>\n",
       "      <td>...</td>\n",
       "      <td>...</td>\n",
       "      <td>...</td>\n",
       "      <td>...</td>\n",
       "    </tr>\n",
       "    <tr>\n",
       "      <th>70</th>\n",
       "      <td>1987</td>\n",
       "      <td>Dock</td>\n",
       "      <td>Emily Walsh</td>\n",
       "      <td>Released</td>\n",
       "      <td>2018-12-17</td>\n",
       "    </tr>\n",
       "    <tr>\n",
       "      <th>71</th>\n",
       "      <td>1927</td>\n",
       "      <td>Dock</td>\n",
       "      <td>Emily Walsh</td>\n",
       "      <td>On Status</td>\n",
       "      <td>2018-12-01</td>\n",
       "    </tr>\n",
       "    <tr>\n",
       "      <th>72</th>\n",
       "      <td>1970</td>\n",
       "      <td>Dock</td>\n",
       "      <td>David Murphy</td>\n",
       "      <td>Released</td>\n",
       "      <td>2018-12-15</td>\n",
       "    </tr>\n",
       "    <tr>\n",
       "      <th>73</th>\n",
       "      <td>1300</td>\n",
       "      <td>Warehouse</td>\n",
       "      <td>Mary O'Toole</td>\n",
       "      <td>Released</td>\n",
       "      <td>2018-12-15</td>\n",
       "    </tr>\n",
       "    <tr>\n",
       "      <th>74</th>\n",
       "      <td>1576</td>\n",
       "      <td>Shipped</td>\n",
       "      <td>John Jones</td>\n",
       "      <td>Released</td>\n",
       "      <td>2018-12-15</td>\n",
       "    </tr>\n",
       "    <tr>\n",
       "      <th>75</th>\n",
       "      <td>1188</td>\n",
       "      <td>Dock</td>\n",
       "      <td>David Murphy</td>\n",
       "      <td>On Status</td>\n",
       "      <td>2018-12-07</td>\n",
       "    </tr>\n",
       "    <tr>\n",
       "      <th>76</th>\n",
       "      <td>1892</td>\n",
       "      <td>Shipped</td>\n",
       "      <td>David Murphy</td>\n",
       "      <td>Released</td>\n",
       "      <td>2018-12-21</td>\n",
       "    </tr>\n",
       "    <tr>\n",
       "      <th>77</th>\n",
       "      <td>1227</td>\n",
       "      <td>Warehouse</td>\n",
       "      <td>David Murphy</td>\n",
       "      <td>Released</td>\n",
       "      <td>2018-12-18</td>\n",
       "    </tr>\n",
       "    <tr>\n",
       "      <th>78</th>\n",
       "      <td>1456</td>\n",
       "      <td>Shipped</td>\n",
       "      <td>James Healy</td>\n",
       "      <td>On Hold</td>\n",
       "      <td>2018-12-05</td>\n",
       "    </tr>\n",
       "    <tr>\n",
       "      <th>79</th>\n",
       "      <td>1403</td>\n",
       "      <td>Dock</td>\n",
       "      <td>John Jones</td>\n",
       "      <td>Released</td>\n",
       "      <td>2018-12-15</td>\n",
       "    </tr>\n",
       "    <tr>\n",
       "      <th>80</th>\n",
       "      <td>1498</td>\n",
       "      <td>Dock</td>\n",
       "      <td>John Jones</td>\n",
       "      <td>On Hold</td>\n",
       "      <td>2018-12-12</td>\n",
       "    </tr>\n",
       "    <tr>\n",
       "      <th>81</th>\n",
       "      <td>1888</td>\n",
       "      <td>Warehouse</td>\n",
       "      <td>David Murphy</td>\n",
       "      <td>Released</td>\n",
       "      <td>2018-12-02</td>\n",
       "    </tr>\n",
       "    <tr>\n",
       "      <th>82</th>\n",
       "      <td>1855</td>\n",
       "      <td>Dock</td>\n",
       "      <td>John Jones</td>\n",
       "      <td>On Hold</td>\n",
       "      <td>2018-12-25</td>\n",
       "    </tr>\n",
       "    <tr>\n",
       "      <th>83</th>\n",
       "      <td>1014</td>\n",
       "      <td>Dock</td>\n",
       "      <td>John Jones</td>\n",
       "      <td>Released</td>\n",
       "      <td>2018-12-24</td>\n",
       "    </tr>\n",
       "    <tr>\n",
       "      <th>84</th>\n",
       "      <td>1141</td>\n",
       "      <td>Warehouse</td>\n",
       "      <td>James Healy</td>\n",
       "      <td>On Status</td>\n",
       "      <td>2018-12-29</td>\n",
       "    </tr>\n",
       "    <tr>\n",
       "      <th>85</th>\n",
       "      <td>1307</td>\n",
       "      <td>Shipped</td>\n",
       "      <td>Mary O'Toole</td>\n",
       "      <td>On Hold</td>\n",
       "      <td>2018-12-04</td>\n",
       "    </tr>\n",
       "    <tr>\n",
       "      <th>86</th>\n",
       "      <td>1700</td>\n",
       "      <td>Warehouse</td>\n",
       "      <td>Emily Walsh</td>\n",
       "      <td>Released</td>\n",
       "      <td>2018-12-30</td>\n",
       "    </tr>\n",
       "    <tr>\n",
       "      <th>87</th>\n",
       "      <td>1275</td>\n",
       "      <td>Dock</td>\n",
       "      <td>James Healy</td>\n",
       "      <td>Released</td>\n",
       "      <td>2018-12-15</td>\n",
       "    </tr>\n",
       "    <tr>\n",
       "      <th>88</th>\n",
       "      <td>1262</td>\n",
       "      <td>Warehouse</td>\n",
       "      <td>David Murphy</td>\n",
       "      <td>On Hold</td>\n",
       "      <td>2018-12-08</td>\n",
       "    </tr>\n",
       "    <tr>\n",
       "      <th>89</th>\n",
       "      <td>1988</td>\n",
       "      <td>Shipped</td>\n",
       "      <td>John Jones</td>\n",
       "      <td>Released</td>\n",
       "      <td>2018-12-31</td>\n",
       "    </tr>\n",
       "    <tr>\n",
       "      <th>90</th>\n",
       "      <td>1648</td>\n",
       "      <td>Dock</td>\n",
       "      <td>David Murphy</td>\n",
       "      <td>Released</td>\n",
       "      <td>2018-12-07</td>\n",
       "    </tr>\n",
       "    <tr>\n",
       "      <th>91</th>\n",
       "      <td>1765</td>\n",
       "      <td>Shipped</td>\n",
       "      <td>James Healy</td>\n",
       "      <td>Released</td>\n",
       "      <td>2018-12-02</td>\n",
       "    </tr>\n",
       "    <tr>\n",
       "      <th>92</th>\n",
       "      <td>1644</td>\n",
       "      <td>Shipped</td>\n",
       "      <td>Mary O'Toole</td>\n",
       "      <td>On Hold</td>\n",
       "      <td>2018-12-20</td>\n",
       "    </tr>\n",
       "    <tr>\n",
       "      <th>93</th>\n",
       "      <td>1102</td>\n",
       "      <td>Shipped</td>\n",
       "      <td>James Healy</td>\n",
       "      <td>On Status</td>\n",
       "      <td>2018-12-08</td>\n",
       "    </tr>\n",
       "    <tr>\n",
       "      <th>94</th>\n",
       "      <td>1402</td>\n",
       "      <td>Dock</td>\n",
       "      <td>David Murphy</td>\n",
       "      <td>On Hold</td>\n",
       "      <td>2018-12-19</td>\n",
       "    </tr>\n",
       "    <tr>\n",
       "      <th>95</th>\n",
       "      <td>1157</td>\n",
       "      <td>Warehouse</td>\n",
       "      <td>David Murphy</td>\n",
       "      <td>On Status</td>\n",
       "      <td>2018-12-30</td>\n",
       "    </tr>\n",
       "    <tr>\n",
       "      <th>96</th>\n",
       "      <td>1825</td>\n",
       "      <td>Dock</td>\n",
       "      <td>John Jones</td>\n",
       "      <td>Released</td>\n",
       "      <td>2018-12-17</td>\n",
       "    </tr>\n",
       "    <tr>\n",
       "      <th>97</th>\n",
       "      <td>1448</td>\n",
       "      <td>Shipped</td>\n",
       "      <td>Emily Walsh</td>\n",
       "      <td>Released</td>\n",
       "      <td>2018-12-24</td>\n",
       "    </tr>\n",
       "    <tr>\n",
       "      <th>98</th>\n",
       "      <td>1643</td>\n",
       "      <td>Shipped</td>\n",
       "      <td>James Healy</td>\n",
       "      <td>Released</td>\n",
       "      <td>2018-12-06</td>\n",
       "    </tr>\n",
       "    <tr>\n",
       "      <th>99</th>\n",
       "      <td>1405</td>\n",
       "      <td>Dock</td>\n",
       "      <td>John Jones</td>\n",
       "      <td>Released</td>\n",
       "      <td>2018-12-11</td>\n",
       "    </tr>\n",
       "  </tbody>\n",
       "</table>\n",
       "<p>100 rows × 5 columns</p>\n",
       "</div>"
      ],
      "text/plain": [
       "    Batch   Location   Responsible     Status     Target\n",
       "0    1885    Shipped   Emily Walsh  On Status 2018-12-29\n",
       "1    1339  Warehouse  Mary O'Toole    On Hold 2018-12-16\n",
       "2    1272    Shipped   James Healy   Released 2018-12-23\n",
       "3    1739  Warehouse  David Murphy   Released 2018-12-01\n",
       "4    1888       Dock   James Healy   Released 2018-12-30\n",
       "5    1169       Dock   James Healy  On Status 2018-12-24\n",
       "6    1009    Shipped   James Healy   Released 2018-12-28\n",
       "7    1761    Shipped   James Healy   Released 2018-12-28\n",
       "8    1807  Warehouse    John Jones    On Hold 2018-12-15\n",
       "9    1350    Shipped   James Healy   Released 2018-12-01\n",
       "10   1722  Warehouse   James Healy  On Status 2018-12-27\n",
       "11   1806  Warehouse   Emily Walsh  On Status 2018-12-23\n",
       "12   1688       Dock   James Healy  On Status 2018-12-04\n",
       "13   1111       Dock    John Jones  On Status 2018-12-24\n",
       "14   1429    Shipped  David Murphy  On Status 2018-12-25\n",
       "15   1020       Dock    John Jones  On Status 2018-12-04\n",
       "16   1041       Dock   Emily Walsh   Released 2018-12-17\n",
       "17   1321       Dock    John Jones  On Status 2018-12-06\n",
       "18   1199    Shipped   Emily Walsh  On Status 2018-12-09\n",
       "19   1467  Warehouse  David Murphy  On Status 2018-12-09\n",
       "20   1896       Dock   James Healy  On Status 2018-12-09\n",
       "21   1503  Warehouse   Emily Walsh  On Status 2018-12-25\n",
       "22   1332  Warehouse   James Healy   Released 2018-12-03\n",
       "23   1411  Warehouse    John Jones   Released 2018-12-07\n",
       "24   1231  Warehouse  David Murphy  On Status 2018-12-16\n",
       "25   1353       Dock    John Jones   Released 2018-12-18\n",
       "26   1462    Shipped   Emily Walsh    On Hold 2018-12-18\n",
       "27   1617    Shipped   Emily Walsh    On Hold 2018-12-19\n",
       "28   1564       Dock   Emily Walsh  On Status 2018-12-20\n",
       "29   1449  Warehouse   James Healy  On Status 2018-12-07\n",
       "..    ...        ...           ...        ...        ...\n",
       "70   1987       Dock   Emily Walsh   Released 2018-12-17\n",
       "71   1927       Dock   Emily Walsh  On Status 2018-12-01\n",
       "72   1970       Dock  David Murphy   Released 2018-12-15\n",
       "73   1300  Warehouse  Mary O'Toole   Released 2018-12-15\n",
       "74   1576    Shipped    John Jones   Released 2018-12-15\n",
       "75   1188       Dock  David Murphy  On Status 2018-12-07\n",
       "76   1892    Shipped  David Murphy   Released 2018-12-21\n",
       "77   1227  Warehouse  David Murphy   Released 2018-12-18\n",
       "78   1456    Shipped   James Healy    On Hold 2018-12-05\n",
       "79   1403       Dock    John Jones   Released 2018-12-15\n",
       "80   1498       Dock    John Jones    On Hold 2018-12-12\n",
       "81   1888  Warehouse  David Murphy   Released 2018-12-02\n",
       "82   1855       Dock    John Jones    On Hold 2018-12-25\n",
       "83   1014       Dock    John Jones   Released 2018-12-24\n",
       "84   1141  Warehouse   James Healy  On Status 2018-12-29\n",
       "85   1307    Shipped  Mary O'Toole    On Hold 2018-12-04\n",
       "86   1700  Warehouse   Emily Walsh   Released 2018-12-30\n",
       "87   1275       Dock   James Healy   Released 2018-12-15\n",
       "88   1262  Warehouse  David Murphy    On Hold 2018-12-08\n",
       "89   1988    Shipped    John Jones   Released 2018-12-31\n",
       "90   1648       Dock  David Murphy   Released 2018-12-07\n",
       "91   1765    Shipped   James Healy   Released 2018-12-02\n",
       "92   1644    Shipped  Mary O'Toole    On Hold 2018-12-20\n",
       "93   1102    Shipped   James Healy  On Status 2018-12-08\n",
       "94   1402       Dock  David Murphy    On Hold 2018-12-19\n",
       "95   1157  Warehouse  David Murphy  On Status 2018-12-30\n",
       "96   1825       Dock    John Jones   Released 2018-12-17\n",
       "97   1448    Shipped   Emily Walsh   Released 2018-12-24\n",
       "98   1643    Shipped   James Healy   Released 2018-12-06\n",
       "99   1405       Dock    John Jones   Released 2018-12-11\n",
       "\n",
       "[100 rows x 5 columns]"
      ]
     },
     "execution_count": 8,
     "metadata": {},
     "output_type": "execute_result"
    }
   ],
   "source": [
    "df = pd.DataFrame(data)\n",
    "df"
   ]
  },
  {
   "cell_type": "markdown",
   "metadata": {},
   "source": [
    "The histogram below shows the actual breakdown per number of batches assigned to each employee in the data set. Although the probaility of workload distribution is equal for each employee, the actual distribution shows variation. "
   ]
  },
  {
   "cell_type": "code",
   "execution_count": 9,
   "metadata": {},
   "outputs": [
    {
     "data": {
      "text/html": [
       "<div>\n",
       "<style>\n",
       "    .dataframe thead tr:only-child th {\n",
       "        text-align: right;\n",
       "    }\n",
       "\n",
       "    .dataframe thead th {\n",
       "        text-align: left;\n",
       "    }\n",
       "\n",
       "    .dataframe tbody tr th {\n",
       "        vertical-align: top;\n",
       "    }\n",
       "</style>\n",
       "<table border=\"1\" class=\"dataframe\">\n",
       "  <thead>\n",
       "    <tr style=\"text-align: right;\">\n",
       "      <th></th>\n",
       "      <th>Batch</th>\n",
       "    </tr>\n",
       "  </thead>\n",
       "  <tbody>\n",
       "    <tr>\n",
       "      <th>count</th>\n",
       "      <td>100.000000</td>\n",
       "    </tr>\n",
       "    <tr>\n",
       "      <th>mean</th>\n",
       "      <td>1469.680000</td>\n",
       "    </tr>\n",
       "    <tr>\n",
       "      <th>std</th>\n",
       "      <td>293.636788</td>\n",
       "    </tr>\n",
       "    <tr>\n",
       "      <th>min</th>\n",
       "      <td>1004.000000</td>\n",
       "    </tr>\n",
       "    <tr>\n",
       "      <th>25%</th>\n",
       "      <td>1221.750000</td>\n",
       "    </tr>\n",
       "    <tr>\n",
       "      <th>50%</th>\n",
       "      <td>1444.500000</td>\n",
       "    </tr>\n",
       "    <tr>\n",
       "      <th>75%</th>\n",
       "      <td>1725.500000</td>\n",
       "    </tr>\n",
       "    <tr>\n",
       "      <th>max</th>\n",
       "      <td>1990.000000</td>\n",
       "    </tr>\n",
       "  </tbody>\n",
       "</table>\n",
       "</div>"
      ],
      "text/plain": [
       "             Batch\n",
       "count   100.000000\n",
       "mean   1469.680000\n",
       "std     293.636788\n",
       "min    1004.000000\n",
       "25%    1221.750000\n",
       "50%    1444.500000\n",
       "75%    1725.500000\n",
       "max    1990.000000"
      ]
     },
     "execution_count": 9,
     "metadata": {},
     "output_type": "execute_result"
    }
   ],
   "source": [
    "df.describe()"
   ]
  },
  {
   "cell_type": "code",
   "execution_count": 10,
   "metadata": {
    "collapsed": true
   },
   "outputs": [],
   "source": [
    "Person = df[['Responsible', 'Status']]"
   ]
  },
  {
   "cell_type": "code",
   "execution_count": 11,
   "metadata": {},
   "outputs": [
    {
     "data": {
      "text/html": [
       "<div>\n",
       "<style>\n",
       "    .dataframe thead tr:only-child th {\n",
       "        text-align: right;\n",
       "    }\n",
       "\n",
       "    .dataframe thead th {\n",
       "        text-align: left;\n",
       "    }\n",
       "\n",
       "    .dataframe tbody tr th {\n",
       "        vertical-align: top;\n",
       "    }\n",
       "</style>\n",
       "<table border=\"1\" class=\"dataframe\">\n",
       "  <thead>\n",
       "    <tr style=\"text-align: right;\">\n",
       "      <th></th>\n",
       "      <th>Responsible</th>\n",
       "      <th>Status</th>\n",
       "    </tr>\n",
       "  </thead>\n",
       "  <tbody>\n",
       "    <tr>\n",
       "      <th>0</th>\n",
       "      <td>Emily Walsh</td>\n",
       "      <td>On Status</td>\n",
       "    </tr>\n",
       "    <tr>\n",
       "      <th>1</th>\n",
       "      <td>Mary O'Toole</td>\n",
       "      <td>On Hold</td>\n",
       "    </tr>\n",
       "    <tr>\n",
       "      <th>2</th>\n",
       "      <td>James Healy</td>\n",
       "      <td>Released</td>\n",
       "    </tr>\n",
       "    <tr>\n",
       "      <th>3</th>\n",
       "      <td>David Murphy</td>\n",
       "      <td>Released</td>\n",
       "    </tr>\n",
       "    <tr>\n",
       "      <th>4</th>\n",
       "      <td>James Healy</td>\n",
       "      <td>Released</td>\n",
       "    </tr>\n",
       "  </tbody>\n",
       "</table>\n",
       "</div>"
      ],
      "text/plain": [
       "    Responsible     Status\n",
       "0   Emily Walsh  On Status\n",
       "1  Mary O'Toole    On Hold\n",
       "2   James Healy   Released\n",
       "3  David Murphy   Released\n",
       "4   James Healy   Released"
      ]
     },
     "execution_count": 11,
     "metadata": {},
     "output_type": "execute_result"
    }
   ],
   "source": [
    "Person.head()"
   ]
  },
  {
   "cell_type": "markdown",
   "metadata": {},
   "source": [
    "## Analyse Data per Person responsible\n",
    "\n",
    "Review batches based on the status of batches by each person responsible.\n",
    "This is an indication of the workload completed per person. \n",
    "Also an indication of which person is dealing with most issues resulting in batches 'on hold' status."
   ]
  },
  {
   "cell_type": "code",
   "execution_count": 34,
   "metadata": {},
   "outputs": [
    {
     "data": {
      "text/plain": [
       "Responsible   Status   \n",
       "David Murphy  On Hold       4\n",
       "              On Status     8\n",
       "              Released     11\n",
       "Emily Walsh   On Hold       2\n",
       "              On Status     8\n",
       "              Released      7\n",
       "James Healy   On Hold       5\n",
       "              On Status    10\n",
       "              Released     12\n",
       "John Jones    On Hold       3\n",
       "              On Status     6\n",
       "              Released     10\n",
       "Mary O'Toole  On Hold       3\n",
       "              On Status     4\n",
       "              Released      7\n",
       "dtype: int64"
      ]
     },
     "execution_count": 34,
     "metadata": {},
     "output_type": "execute_result"
    }
   ],
   "source": [
    "df.groupby(['Responsible','Status']).size() # Group the batches by 'Status' per person 'Responsible' "
   ]
  },
  {
   "cell_type": "code",
   "execution_count": 27,
   "metadata": {},
   "outputs": [
    {
     "data": {
      "image/png": "[encoded data removed]",
      "text/plain": [
       "<matplotlib.figure.Figure at 0x22461f9af98>"
      ]
     },
     "metadata": {},
     "output_type": "display_data"
    }
   ],
   "source": [
    "plt.hist(Responsibles)\n",
    "plt.show()"
   ]
  },
  {
   "cell_type": "code",
   "execution_count": 29,
   "metadata": {},
   "outputs": [
    {
     "data": {
      "text/plain": [
       "<matplotlib.axes._subplots.AxesSubplot at 0x224620567f0>"
      ]
     },
     "execution_count": 29,
     "metadata": {},
     "output_type": "execute_result"
    },
    {
     "data": {
      "image/png": "[encoded data removed]",
      "text/plain": [
       "<matplotlib.figure.Figure at 0x22461e9d780>"
      ]
     },
     "metadata": {},
     "output_type": "display_data"
    }
   ],
   "source": [
    "df.groupby(['Responsible', 'Status']).size().unstack().plot(kind='bar', stacked=True)"
   ]
  },
  {
   "cell_type": "code",
   "execution_count": 31,
   "metadata": {},
   "outputs": [
    {
     "data": {
      "text/plain": [
       "<seaborn.axisgrid.PairGrid at 0x22461ff9be0>"
      ]
     },
     "execution_count": 31,
     "metadata": {},
     "output_type": "execute_result"
    },
    {
     "data": {
      "image/png": "[encoded data removed]",
      "text/plain": [
       "<matplotlib.figure.Figure at 0x22461ff9278>"
      ]
     },
     "metadata": {},
     "output_type": "display_data"
    }
   ],
   "source": [
    "sns.pairplot(df, hue=\"Responsible\")"
   ]
  },
  {
   "cell_type": "code",
   "execution_count": 32,
   "metadata": {},
   "outputs": [
    {
     "data": {
      "image/png": "[encoded data removed]",
      "text/plain": [
       "<matplotlib.figure.Figure at 0x22461a7ba20>"
      ]
     },
     "metadata": {},
     "output_type": "display_data"
    }
   ],
   "source": [
    "plt.plot([Targets], [Responsibles], 'bs') # Plot Target dates vs person responsible in blue squares\n",
    "plt.show()"
   ]
  },
  {
   "cell_type": "markdown",
   "metadata": {},
   "source": [
    "The data indicates that James Healy has the highest work load with the most batches of the group. \n",
    "James Healy also has most number of batches at 'On Hold' status highlighting issues holding 5 batches from his group from release to the customer."
   ]
  },
  {
   "cell_type": "markdown",
   "metadata": {},
   "source": [
    "** *** **"
   ]
  },
  {
   "cell_type": "code",
   "execution_count": null,
   "metadata": {
    "collapsed": true
   },
   "outputs": [],
   "source": []
  },
  {
   "cell_type": "code",
   "execution_count": null,
   "metadata": {
    "collapsed": true
   },
   "outputs": [],
   "source": []
  },
  {
   "cell_type": "code",
   "execution_count": 13,
   "metadata": {},
   "outputs": [
    {
     "data": {
      "text/plain": [
       "Location   Status   \n",
       "Dock       On Hold       4\n",
       "           On Status    13\n",
       "           Released     20\n",
       "Shipped    On Hold       7\n",
       "           On Status     6\n",
       "           Released     16\n",
       "Warehouse  On Hold       6\n",
       "           On Status    17\n",
       "           Released     11\n",
       "dtype: int64"
      ]
     },
     "execution_count": 13,
     "metadata": {},
     "output_type": "execute_result"
    }
   ],
   "source": [
    "df.groupby(['Location','Status']).size()"
   ]
  },
  {
   "cell_type": "code",
   "execution_count": 14,
   "metadata": {},
   "outputs": [
    {
     "data": {
      "image/png": "[encoded data removed]",
      "text/plain": [
       "<matplotlib.figure.Figure at 0x22461567d68>"
      ]
     },
     "metadata": {},
     "output_type": "display_data"
    }
   ],
   "source": []
  },
  {
   "cell_type": "code",
   "execution_count": 15,
   "metadata": {},
   "outputs": [
    {
     "data": {
      "image/png": "[encoded data removed]",
      "text/plain": [
       "<matplotlib.figure.Figure at 0x2246169ce80>"
      ]
     },
     "metadata": {},
     "output_type": "display_data"
    }
   ],
   "source": [
    "plt.hist(Statuss)\n",
    "plt.show()"
   ]
  },
  {
   "cell_type": "code",
   "execution_count": 16,
   "metadata": {},
   "outputs": [
    {
     "data": {
      "image/png": "[encoded data removed]",
      "text/plain": [
       "<matplotlib.figure.Figure at 0x22461982160>"
      ]
     },
     "metadata": {},
     "output_type": "display_data"
    }
   ],
   "source": [
    "plt.hist(Locations)\n",
    "plt.show()"
   ]
  },
  {
   "cell_type": "code",
   "execution_count": 17,
   "metadata": {},
   "outputs": [
    {
     "data": {
      "image/png": "[encoded data removed]",
      "text/plain": [
       "<matplotlib.figure.Figure at 0x2246169c710>"
      ]
     },
     "metadata": {},
     "output_type": "display_data"
    }
   ],
   "source": [
    "plt.plot([Targets], [Batch], 'ro')\n",
    "plt.show()"
   ]
  },
  {
   "cell_type": "code",
   "execution_count": 18,
   "metadata": {},
   "outputs": [
    {
     "data": {
      "image/png": "[encoded data removed]",
      "text/plain": [
       "<matplotlib.figure.Figure at 0x22461a17240>"
      ]
     },
     "metadata": {},
     "output_type": "display_data"
    }
   ],
   "source": []
  },
  {
   "cell_type": "code",
   "execution_count": 19,
   "metadata": {
    "collapsed": true
   },
   "outputs": [],
   "source": [
    "%matplotlib inline"
   ]
  },
  {
   "cell_type": "markdown",
   "metadata": {},
   "source": [
    "## Review Batches Status Per Person Responsible\n",
    "\n",
    "Review batches based on the status of batches by each person responsible. This is an indication of the workload completed per person. Also an indication of which person is dealing with most issues resulting in batches 'on hold' status."
   ]
  },
  {
   "cell_type": "code",
   "execution_count": 21,
   "metadata": {},
   "outputs": [
    {
     "data": {
      "text/plain": [
       "<matplotlib.axes._subplots.AxesSubplot at 0x22461c1c5c0>"
      ]
     },
     "execution_count": 21,
     "metadata": {},
     "output_type": "execute_result"
    },
    {
     "data": {
      "image/png": "[encoded data removed]",
      "text/plain": [
       "<matplotlib.figure.Figure at 0x22461c30710>"
      ]
     },
     "metadata": {},
     "output_type": "display_data"
    }
   ],
   "source": [
    "df.groupby(['Responsible', 'Location']).size().unstack().plot(kind='bar', stacked=True)"
   ]
  },
  {
   "cell_type": "code",
   "execution_count": 22,
   "metadata": {},
   "outputs": [
    {
     "data": {
      "text/plain": [
       "<matplotlib.axes._subplots.AxesSubplot at 0x22461c22208>"
      ]
     },
     "execution_count": 22,
     "metadata": {},
     "output_type": "execute_result"
    },
    {
     "data": {
      "image/png": "[encoded data removed]",
      "text/plain": [
       "<matplotlib.figure.Figure at 0x22461cb74a8>"
      ]
     },
     "metadata": {},
     "output_type": "display_data"
    }
   ],
   "source": [
    "df.groupby(['Location', 'Status']).size().unstack().plot(kind='bar', stacked=True)"
   ]
  },
  {
   "cell_type": "code",
   "execution_count": 23,
   "metadata": {},
   "outputs": [
    {
     "data": {
      "text/plain": [
       "<seaborn.axisgrid.PairGrid at 0x22461d11eb8>"
      ]
     },
     "execution_count": 23,
     "metadata": {},
     "output_type": "execute_result"
    },
    {
     "data": {
      "image/png": "[encoded data removed]",
      "text/plain": [
       "<matplotlib.figure.Figure at 0x22461d7ec18>"
      ]
     },
     "metadata": {},
     "output_type": "display_data"
    }
   ],
   "source": [
    "sns.pairplot(df, hue=\"Status\")"
   ]
  },
  {
   "cell_type": "code",
   "execution_count": 24,
   "metadata": {},
   "outputs": [
    {
     "data": {
      "text/plain": [
       "<seaborn.axisgrid.PairGrid at 0x22461e9d860>"
      ]
     },
     "execution_count": 24,
     "metadata": {},
     "output_type": "execute_result"
    },
    {
     "data": {
      "image/png": "[encoded data removed]",
      "text/plain": [
       "<matplotlib.figure.Figure at 0x22461e9d208>"
      ]
     },
     "metadata": {},
     "output_type": "display_data"
    }
   ],
   "source": [
    "sns.pairplot(df, hue=\"Location\")"
   ]
  },
  {
   "cell_type": "code",
   "execution_count": null,
   "metadata": {},
   "outputs": [],
   "source": []
  },
  {
   "cell_type": "code",
   "execution_count": null,
   "metadata": {
    "collapsed": true
   },
   "outputs": [],
   "source": []
  },
  {
   "cell_type": "code",
   "execution_count": null,
   "metadata": {
    "collapsed": true
   },
   "outputs": [],
   "source": []
  },
  {
   "cell_type": "code",
   "execution_count": null,
   "metadata": {
    "collapsed": true
   },
   "outputs": [],
   "source": []
  },
  {
   "cell_type": "code",
   "execution_count": null,
   "metadata": {
    "collapsed": true
   },
   "outputs": [],
   "source": []
  },
  {
   "cell_type": "code",
   "execution_count": null,
   "metadata": {
    "collapsed": true
   },
   "outputs": [],
   "source": []
  },
  {
   "cell_type": "code",
   "execution_count": null,
   "metadata": {
    "collapsed": true
   },
   "outputs": [],
   "source": []
  },
  {
   "cell_type": "code",
   "execution_count": null,
   "metadata": {
    "collapsed": true
   },
   "outputs": [],
   "source": []
  },
  {
   "cell_type": "code",
   "execution_count": null,
   "metadata": {
    "collapsed": true
   },
   "outputs": [],
   "source": []
  },
  {
   "cell_type": "markdown",
   "metadata": {},
   "source": [
    "## References\n",
    "https://pandas.pydata.org/pandas-docs/stable/generated/pandas.date_range.html\n",
    "https://docs.scipy.org/doc/numpy/reference/generated/numpy.random.choice.html\n",
    "https://seaborn.pydata.org/generated/seaborn.lineplot.html\n",
    "https://stackoverflow.com/questions/23415500/pandas-plotting-a-stacked-bar-chart\n",
    "https://pandas.pydata.org/pandas-docs/stable/generated/pandas.DataFrame.loc.html\n",
    "https://seaborn.pydata.org/examples/scatterplot_categorical.html\n",
    "https://github.com/jupyter/help/issues/68\n",
    "https://pandas.pydata.org/pandas-docs/stable/generated/pandas.DataFrame.groupby.html\n",
    "https://medium.com/ibm-data-science-experience/markdown-for-jupyter-notebooks-cheatsheet-386c05aeebed\n",
    "\n"
   ]
  },
  {
   "cell_type": "code",
   "execution_count": null,
   "metadata": {
    "collapsed": true
   },
   "outputs": [],
   "source": []
  },
  {
   "cell_type": "code",
   "execution_count": null,
   "metadata": {
    "collapsed": true
   },
   "outputs": [],
   "source": []
  }
 ],
 "metadata": {
  "kernelspec": {
   "display_name": "Python 3",
   "language": "python",
   "name": "python3"
  },
  "language_info": {
   "codemirror_mode": {
    "name": "ipython",
    "version": 3
   },
   "file_extension": ".py",
   "mimetype": "text/x-python",
   "name": "python",
   "nbconvert_exporter": "python",
   "pygments_lexer": "ipython3",
   "version": "3.6.3"
  }
 },
 "nbformat": 4,
 "nbformat_minor": 2
}
