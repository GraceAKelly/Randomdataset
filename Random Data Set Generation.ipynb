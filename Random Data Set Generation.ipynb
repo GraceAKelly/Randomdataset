{
 "cells": [
  {
   "cell_type": "markdown",
   "metadata": {},
   "source": [
    "# Generation of a random data set\n",
    "\n",
    "![Numpy](https://cdn-images-1.medium.com/max/1200/1*L0yNfRdiH8DfYuiJTKPxww.png)\n",
    "\n",
    "The following is a dataset synthesised using Python. It is a randomly generated simulation of data based on real life phenomenon. The basis of the data set is manufacturing data containing a manufatured batch number with corresponding location, name of person responsible for ensuring targets are met, the current status of the manufatured batch and a target customer delivery date.  \n",
    "\n",
    "One hundred random **batch** numbers have been generated. The **status** of the batches fall into 3 different categories: on hold, on status and released. Each status has a different probability level: on hold (0.15), on status (0.35) and released (0.5). The probability is based on the maufacturing process being less likely to have an issue on a manufactured batch resulting in a batch being placed 'on hold'. 'On status' is an interim dispostion of a manufactred batch prior to being released but with no known issue. \n",
    "\n",
    "The current **location** of each batch is defined as per: Warehouse, Dock or Shipped. Each location is as likely as the others to be chosen as the manufactured batches move through the process.  \n",
    "\n",
    "The **target** date is the date expected for each batch to be delivered to the customer.\n",
    "\n",
    "The employee **responsible** for meeting the target of each batch is outlined. The probability of each employee is the evenly distributed (5 employees with 0.2 probability) to be assigned responsibility for meeting the target date. \n"
   ]
  },
  {
   "cell_type": "code",
   "execution_count": 2,
   "metadata": {
    "collapsed": true
   },
   "outputs": [],
   "source": [
    "import numpy as np"
   ]
  },
  {
   "cell_type": "code",
   "execution_count": 3,
   "metadata": {
    "collapsed": true
   },
   "outputs": [],
   "source": [
    "import pandas as pd"
   ]
  },
  {
   "cell_type": "code",
   "execution_count": 4,
   "metadata": {},
   "outputs": [
    {
     "data": {
      "text/plain": [
       "array([1632, 1446, 1871, 1027, 1985, 1736, 1052, 1530, 1636, 1971, 1516,\n",
       "       1630, 1227, 1553, 1893, 1948, 1496, 1065, 1984, 1204, 1824, 1618,\n",
       "       1381, 1180, 1887, 1245, 1027, 1964, 1130, 1832, 1906, 1388, 1215,\n",
       "       1636, 1521, 1246, 1913, 1827, 1772, 1368, 1549, 1544, 1950, 1686,\n",
       "       1845, 1780, 1763, 1199, 1235, 1158, 1400, 1859, 1556, 1098, 1051,\n",
       "       1536, 1613, 1182, 1364, 1465, 1044, 1786, 1182, 1733, 1372, 1413,\n",
       "       1796, 1819, 1405, 1944, 1191, 1116, 1587, 1961, 1887, 1048, 1565,\n",
       "       1581, 1724, 1714, 1927, 1053, 1705, 1024, 1500, 1956, 1847, 1022,\n",
       "       1612, 1917, 1716, 1879, 1512, 1394, 1573, 1299, 1552, 1164, 1946,\n",
       "       1447])"
      ]
     },
     "execution_count": 4,
     "metadata": {},
     "output_type": "execute_result"
    }
   ],
   "source": [
    "Batch = np.random.randint(1000, 2000, size=100)\n",
    "Batch"
   ]
  },
  {
   "cell_type": "code",
   "execution_count": 5,
   "metadata": {
    "collapsed": true
   },
   "outputs": [],
   "source": [
    "Target = pd.date_range(start='12/01/2018', periods=31)\n",
    "Targets = np.random.choice(Target, 100)"
   ]
  },
  {
   "cell_type": "code",
   "execution_count": 6,
   "metadata": {
    "collapsed": true
   },
   "outputs": [],
   "source": [
    "Status = [\"On Hold\", \"On Status\", \"Released\"]\n",
    "Statuss = np.random.choice(Status, 100, p=[0.15, 0.35, 0.50])"
   ]
  },
  {
   "cell_type": "code",
   "execution_count": 7,
   "metadata": {
    "collapsed": true
   },
   "outputs": [],
   "source": [
    "Location = [\"Shipped\", \"Dock\", \"Warehouse\"]\n",
    "Locations = np.random.choice(Location, 100, p=[0.34, 0.33, 0.33])"
   ]
  },
  {
   "cell_type": "code",
   "execution_count": 8,
   "metadata": {
    "collapsed": true
   },
   "outputs": [],
   "source": [
    "Responsible = [\"John Jones\", \"Mary O'Toole\", \"David Murphy\", \"Emily Walsh\",\"James Healy\"]\n",
    "Responsibles = np.random.choice(Responsible, 100,  p=[0.2, 0.2, 0.2, 0.2, 0.2])"
   ]
  },
  {
   "cell_type": "code",
   "execution_count": 9,
   "metadata": {
    "collapsed": true
   },
   "outputs": [],
   "source": [
    "data = {'Batch':Batch,'Target':Targets,'Status':Statuss,'Location':Locations,'Responsible':Responsibles}"
   ]
  },
  {
   "cell_type": "code",
   "execution_count": 23,
   "metadata": {},
   "outputs": [
    {
     "data": {
      "text/html": [
       "<div>\n",
       "<style>\n",
       "    .dataframe thead tr:only-child th {\n",
       "        text-align: right;\n",
       "    }\n",
       "\n",
       "    .dataframe thead th {\n",
       "        text-align: left;\n",
       "    }\n",
       "\n",
       "    .dataframe tbody tr th {\n",
       "        vertical-align: top;\n",
       "    }\n",
       "</style>\n",
       "<table border=\"1\" class=\"dataframe\">\n",
       "  <thead>\n",
       "    <tr style=\"text-align: right;\">\n",
       "      <th></th>\n",
       "      <th>Batch</th>\n",
       "      <th>Location</th>\n",
       "      <th>Responsible</th>\n",
       "      <th>Status</th>\n",
       "      <th>Target</th>\n",
       "    </tr>\n",
       "  </thead>\n",
       "  <tbody>\n",
       "    <tr>\n",
       "      <th>0</th>\n",
       "      <td>1632</td>\n",
       "      <td>Dock</td>\n",
       "      <td>James Healy</td>\n",
       "      <td>On Status</td>\n",
       "      <td>2018-12-22</td>\n",
       "    </tr>\n",
       "    <tr>\n",
       "      <th>1</th>\n",
       "      <td>1446</td>\n",
       "      <td>Shipped</td>\n",
       "      <td>John Jones</td>\n",
       "      <td>On Status</td>\n",
       "      <td>2018-12-18</td>\n",
       "    </tr>\n",
       "    <tr>\n",
       "      <th>2</th>\n",
       "      <td>1871</td>\n",
       "      <td>Shipped</td>\n",
       "      <td>David Murphy</td>\n",
       "      <td>On Status</td>\n",
       "      <td>2018-12-12</td>\n",
       "    </tr>\n",
       "    <tr>\n",
       "      <th>3</th>\n",
       "      <td>1027</td>\n",
       "      <td>Shipped</td>\n",
       "      <td>Mary O'Toole</td>\n",
       "      <td>Released</td>\n",
       "      <td>2018-12-31</td>\n",
       "    </tr>\n",
       "    <tr>\n",
       "      <th>4</th>\n",
       "      <td>1985</td>\n",
       "      <td>Dock</td>\n",
       "      <td>John Jones</td>\n",
       "      <td>On Status</td>\n",
       "      <td>2018-12-11</td>\n",
       "    </tr>\n",
       "    <tr>\n",
       "      <th>5</th>\n",
       "      <td>1736</td>\n",
       "      <td>Warehouse</td>\n",
       "      <td>Emily Walsh</td>\n",
       "      <td>On Status</td>\n",
       "      <td>2018-12-18</td>\n",
       "    </tr>\n",
       "    <tr>\n",
       "      <th>6</th>\n",
       "      <td>1052</td>\n",
       "      <td>Dock</td>\n",
       "      <td>James Healy</td>\n",
       "      <td>On Status</td>\n",
       "      <td>2018-12-17</td>\n",
       "    </tr>\n",
       "    <tr>\n",
       "      <th>7</th>\n",
       "      <td>1530</td>\n",
       "      <td>Warehouse</td>\n",
       "      <td>James Healy</td>\n",
       "      <td>Released</td>\n",
       "      <td>2018-12-12</td>\n",
       "    </tr>\n",
       "    <tr>\n",
       "      <th>8</th>\n",
       "      <td>1636</td>\n",
       "      <td>Dock</td>\n",
       "      <td>James Healy</td>\n",
       "      <td>Released</td>\n",
       "      <td>2018-12-15</td>\n",
       "    </tr>\n",
       "    <tr>\n",
       "      <th>9</th>\n",
       "      <td>1971</td>\n",
       "      <td>Shipped</td>\n",
       "      <td>Mary O'Toole</td>\n",
       "      <td>On Hold</td>\n",
       "      <td>2018-12-04</td>\n",
       "    </tr>\n",
       "    <tr>\n",
       "      <th>10</th>\n",
       "      <td>1516</td>\n",
       "      <td>Dock</td>\n",
       "      <td>John Jones</td>\n",
       "      <td>On Status</td>\n",
       "      <td>2018-12-28</td>\n",
       "    </tr>\n",
       "    <tr>\n",
       "      <th>11</th>\n",
       "      <td>1630</td>\n",
       "      <td>Warehouse</td>\n",
       "      <td>James Healy</td>\n",
       "      <td>On Hold</td>\n",
       "      <td>2018-12-11</td>\n",
       "    </tr>\n",
       "    <tr>\n",
       "      <th>12</th>\n",
       "      <td>1227</td>\n",
       "      <td>Dock</td>\n",
       "      <td>James Healy</td>\n",
       "      <td>Released</td>\n",
       "      <td>2018-12-27</td>\n",
       "    </tr>\n",
       "    <tr>\n",
       "      <th>13</th>\n",
       "      <td>1553</td>\n",
       "      <td>Warehouse</td>\n",
       "      <td>John Jones</td>\n",
       "      <td>On Hold</td>\n",
       "      <td>2018-12-30</td>\n",
       "    </tr>\n",
       "    <tr>\n",
       "      <th>14</th>\n",
       "      <td>1893</td>\n",
       "      <td>Warehouse</td>\n",
       "      <td>James Healy</td>\n",
       "      <td>On Hold</td>\n",
       "      <td>2018-12-16</td>\n",
       "    </tr>\n",
       "    <tr>\n",
       "      <th>15</th>\n",
       "      <td>1948</td>\n",
       "      <td>Warehouse</td>\n",
       "      <td>Emily Walsh</td>\n",
       "      <td>Released</td>\n",
       "      <td>2018-12-26</td>\n",
       "    </tr>\n",
       "    <tr>\n",
       "      <th>16</th>\n",
       "      <td>1496</td>\n",
       "      <td>Shipped</td>\n",
       "      <td>Mary O'Toole</td>\n",
       "      <td>On Status</td>\n",
       "      <td>2018-12-06</td>\n",
       "    </tr>\n",
       "    <tr>\n",
       "      <th>17</th>\n",
       "      <td>1065</td>\n",
       "      <td>Shipped</td>\n",
       "      <td>Mary O'Toole</td>\n",
       "      <td>On Status</td>\n",
       "      <td>2018-12-25</td>\n",
       "    </tr>\n",
       "    <tr>\n",
       "      <th>18</th>\n",
       "      <td>1984</td>\n",
       "      <td>Shipped</td>\n",
       "      <td>Mary O'Toole</td>\n",
       "      <td>On Status</td>\n",
       "      <td>2018-12-14</td>\n",
       "    </tr>\n",
       "    <tr>\n",
       "      <th>19</th>\n",
       "      <td>1204</td>\n",
       "      <td>Shipped</td>\n",
       "      <td>Mary O'Toole</td>\n",
       "      <td>On Status</td>\n",
       "      <td>2018-12-19</td>\n",
       "    </tr>\n",
       "    <tr>\n",
       "      <th>20</th>\n",
       "      <td>1824</td>\n",
       "      <td>Shipped</td>\n",
       "      <td>John Jones</td>\n",
       "      <td>On Status</td>\n",
       "      <td>2018-12-12</td>\n",
       "    </tr>\n",
       "    <tr>\n",
       "      <th>21</th>\n",
       "      <td>1618</td>\n",
       "      <td>Dock</td>\n",
       "      <td>Mary O'Toole</td>\n",
       "      <td>On Hold</td>\n",
       "      <td>2018-12-31</td>\n",
       "    </tr>\n",
       "    <tr>\n",
       "      <th>22</th>\n",
       "      <td>1381</td>\n",
       "      <td>Shipped</td>\n",
       "      <td>Emily Walsh</td>\n",
       "      <td>Released</td>\n",
       "      <td>2018-12-02</td>\n",
       "    </tr>\n",
       "    <tr>\n",
       "      <th>23</th>\n",
       "      <td>1180</td>\n",
       "      <td>Shipped</td>\n",
       "      <td>James Healy</td>\n",
       "      <td>On Status</td>\n",
       "      <td>2018-12-24</td>\n",
       "    </tr>\n",
       "    <tr>\n",
       "      <th>24</th>\n",
       "      <td>1887</td>\n",
       "      <td>Warehouse</td>\n",
       "      <td>Emily Walsh</td>\n",
       "      <td>Released</td>\n",
       "      <td>2018-12-01</td>\n",
       "    </tr>\n",
       "    <tr>\n",
       "      <th>25</th>\n",
       "      <td>1245</td>\n",
       "      <td>Warehouse</td>\n",
       "      <td>James Healy</td>\n",
       "      <td>Released</td>\n",
       "      <td>2018-12-03</td>\n",
       "    </tr>\n",
       "    <tr>\n",
       "      <th>26</th>\n",
       "      <td>1027</td>\n",
       "      <td>Shipped</td>\n",
       "      <td>Emily Walsh</td>\n",
       "      <td>On Status</td>\n",
       "      <td>2018-12-02</td>\n",
       "    </tr>\n",
       "    <tr>\n",
       "      <th>27</th>\n",
       "      <td>1964</td>\n",
       "      <td>Warehouse</td>\n",
       "      <td>David Murphy</td>\n",
       "      <td>On Status</td>\n",
       "      <td>2018-12-15</td>\n",
       "    </tr>\n",
       "    <tr>\n",
       "      <th>28</th>\n",
       "      <td>1130</td>\n",
       "      <td>Dock</td>\n",
       "      <td>Emily Walsh</td>\n",
       "      <td>On Status</td>\n",
       "      <td>2018-12-25</td>\n",
       "    </tr>\n",
       "    <tr>\n",
       "      <th>29</th>\n",
       "      <td>1832</td>\n",
       "      <td>Dock</td>\n",
       "      <td>John Jones</td>\n",
       "      <td>On Status</td>\n",
       "      <td>2018-12-01</td>\n",
       "    </tr>\n",
       "    <tr>\n",
       "      <th>...</th>\n",
       "      <td>...</td>\n",
       "      <td>...</td>\n",
       "      <td>...</td>\n",
       "      <td>...</td>\n",
       "      <td>...</td>\n",
       "    </tr>\n",
       "    <tr>\n",
       "      <th>70</th>\n",
       "      <td>1191</td>\n",
       "      <td>Warehouse</td>\n",
       "      <td>David Murphy</td>\n",
       "      <td>On Status</td>\n",
       "      <td>2018-12-17</td>\n",
       "    </tr>\n",
       "    <tr>\n",
       "      <th>71</th>\n",
       "      <td>1116</td>\n",
       "      <td>Shipped</td>\n",
       "      <td>James Healy</td>\n",
       "      <td>On Status</td>\n",
       "      <td>2018-12-26</td>\n",
       "    </tr>\n",
       "    <tr>\n",
       "      <th>72</th>\n",
       "      <td>1587</td>\n",
       "      <td>Warehouse</td>\n",
       "      <td>Emily Walsh</td>\n",
       "      <td>On Hold</td>\n",
       "      <td>2018-12-31</td>\n",
       "    </tr>\n",
       "    <tr>\n",
       "      <th>73</th>\n",
       "      <td>1961</td>\n",
       "      <td>Shipped</td>\n",
       "      <td>Mary O'Toole</td>\n",
       "      <td>On Status</td>\n",
       "      <td>2018-12-23</td>\n",
       "    </tr>\n",
       "    <tr>\n",
       "      <th>74</th>\n",
       "      <td>1887</td>\n",
       "      <td>Warehouse</td>\n",
       "      <td>John Jones</td>\n",
       "      <td>On Status</td>\n",
       "      <td>2018-12-11</td>\n",
       "    </tr>\n",
       "    <tr>\n",
       "      <th>75</th>\n",
       "      <td>1048</td>\n",
       "      <td>Warehouse</td>\n",
       "      <td>James Healy</td>\n",
       "      <td>Released</td>\n",
       "      <td>2018-12-06</td>\n",
       "    </tr>\n",
       "    <tr>\n",
       "      <th>76</th>\n",
       "      <td>1565</td>\n",
       "      <td>Dock</td>\n",
       "      <td>Mary O'Toole</td>\n",
       "      <td>Released</td>\n",
       "      <td>2018-12-04</td>\n",
       "    </tr>\n",
       "    <tr>\n",
       "      <th>77</th>\n",
       "      <td>1581</td>\n",
       "      <td>Shipped</td>\n",
       "      <td>Mary O'Toole</td>\n",
       "      <td>Released</td>\n",
       "      <td>2018-12-24</td>\n",
       "    </tr>\n",
       "    <tr>\n",
       "      <th>78</th>\n",
       "      <td>1724</td>\n",
       "      <td>Warehouse</td>\n",
       "      <td>Mary O'Toole</td>\n",
       "      <td>Released</td>\n",
       "      <td>2018-12-16</td>\n",
       "    </tr>\n",
       "    <tr>\n",
       "      <th>79</th>\n",
       "      <td>1714</td>\n",
       "      <td>Dock</td>\n",
       "      <td>John Jones</td>\n",
       "      <td>Released</td>\n",
       "      <td>2018-12-27</td>\n",
       "    </tr>\n",
       "    <tr>\n",
       "      <th>80</th>\n",
       "      <td>1927</td>\n",
       "      <td>Warehouse</td>\n",
       "      <td>Emily Walsh</td>\n",
       "      <td>Released</td>\n",
       "      <td>2018-12-27</td>\n",
       "    </tr>\n",
       "    <tr>\n",
       "      <th>81</th>\n",
       "      <td>1053</td>\n",
       "      <td>Dock</td>\n",
       "      <td>David Murphy</td>\n",
       "      <td>Released</td>\n",
       "      <td>2018-12-12</td>\n",
       "    </tr>\n",
       "    <tr>\n",
       "      <th>82</th>\n",
       "      <td>1705</td>\n",
       "      <td>Dock</td>\n",
       "      <td>Emily Walsh</td>\n",
       "      <td>On Status</td>\n",
       "      <td>2018-12-09</td>\n",
       "    </tr>\n",
       "    <tr>\n",
       "      <th>83</th>\n",
       "      <td>1024</td>\n",
       "      <td>Dock</td>\n",
       "      <td>Emily Walsh</td>\n",
       "      <td>Released</td>\n",
       "      <td>2018-12-04</td>\n",
       "    </tr>\n",
       "    <tr>\n",
       "      <th>84</th>\n",
       "      <td>1500</td>\n",
       "      <td>Warehouse</td>\n",
       "      <td>David Murphy</td>\n",
       "      <td>Released</td>\n",
       "      <td>2018-12-04</td>\n",
       "    </tr>\n",
       "    <tr>\n",
       "      <th>85</th>\n",
       "      <td>1956</td>\n",
       "      <td>Dock</td>\n",
       "      <td>James Healy</td>\n",
       "      <td>On Status</td>\n",
       "      <td>2018-12-27</td>\n",
       "    </tr>\n",
       "    <tr>\n",
       "      <th>86</th>\n",
       "      <td>1847</td>\n",
       "      <td>Dock</td>\n",
       "      <td>Mary O'Toole</td>\n",
       "      <td>On Status</td>\n",
       "      <td>2018-12-08</td>\n",
       "    </tr>\n",
       "    <tr>\n",
       "      <th>87</th>\n",
       "      <td>1022</td>\n",
       "      <td>Shipped</td>\n",
       "      <td>John Jones</td>\n",
       "      <td>On Hold</td>\n",
       "      <td>2018-12-28</td>\n",
       "    </tr>\n",
       "    <tr>\n",
       "      <th>88</th>\n",
       "      <td>1612</td>\n",
       "      <td>Shipped</td>\n",
       "      <td>John Jones</td>\n",
       "      <td>On Status</td>\n",
       "      <td>2018-12-20</td>\n",
       "    </tr>\n",
       "    <tr>\n",
       "      <th>89</th>\n",
       "      <td>1917</td>\n",
       "      <td>Dock</td>\n",
       "      <td>Emily Walsh</td>\n",
       "      <td>On Status</td>\n",
       "      <td>2018-12-11</td>\n",
       "    </tr>\n",
       "    <tr>\n",
       "      <th>90</th>\n",
       "      <td>1716</td>\n",
       "      <td>Shipped</td>\n",
       "      <td>David Murphy</td>\n",
       "      <td>On Hold</td>\n",
       "      <td>2018-12-13</td>\n",
       "    </tr>\n",
       "    <tr>\n",
       "      <th>91</th>\n",
       "      <td>1879</td>\n",
       "      <td>Shipped</td>\n",
       "      <td>Emily Walsh</td>\n",
       "      <td>On Hold</td>\n",
       "      <td>2018-12-30</td>\n",
       "    </tr>\n",
       "    <tr>\n",
       "      <th>92</th>\n",
       "      <td>1512</td>\n",
       "      <td>Warehouse</td>\n",
       "      <td>David Murphy</td>\n",
       "      <td>On Status</td>\n",
       "      <td>2018-12-25</td>\n",
       "    </tr>\n",
       "    <tr>\n",
       "      <th>93</th>\n",
       "      <td>1394</td>\n",
       "      <td>Dock</td>\n",
       "      <td>Mary O'Toole</td>\n",
       "      <td>Released</td>\n",
       "      <td>2018-12-25</td>\n",
       "    </tr>\n",
       "    <tr>\n",
       "      <th>94</th>\n",
       "      <td>1573</td>\n",
       "      <td>Warehouse</td>\n",
       "      <td>David Murphy</td>\n",
       "      <td>On Hold</td>\n",
       "      <td>2018-12-31</td>\n",
       "    </tr>\n",
       "    <tr>\n",
       "      <th>95</th>\n",
       "      <td>1299</td>\n",
       "      <td>Shipped</td>\n",
       "      <td>James Healy</td>\n",
       "      <td>Released</td>\n",
       "      <td>2018-12-15</td>\n",
       "    </tr>\n",
       "    <tr>\n",
       "      <th>96</th>\n",
       "      <td>1552</td>\n",
       "      <td>Dock</td>\n",
       "      <td>James Healy</td>\n",
       "      <td>Released</td>\n",
       "      <td>2018-12-11</td>\n",
       "    </tr>\n",
       "    <tr>\n",
       "      <th>97</th>\n",
       "      <td>1164</td>\n",
       "      <td>Shipped</td>\n",
       "      <td>Emily Walsh</td>\n",
       "      <td>On Status</td>\n",
       "      <td>2018-12-02</td>\n",
       "    </tr>\n",
       "    <tr>\n",
       "      <th>98</th>\n",
       "      <td>1946</td>\n",
       "      <td>Warehouse</td>\n",
       "      <td>James Healy</td>\n",
       "      <td>On Status</td>\n",
       "      <td>2018-12-14</td>\n",
       "    </tr>\n",
       "    <tr>\n",
       "      <th>99</th>\n",
       "      <td>1447</td>\n",
       "      <td>Warehouse</td>\n",
       "      <td>John Jones</td>\n",
       "      <td>Released</td>\n",
       "      <td>2018-12-30</td>\n",
       "    </tr>\n",
       "  </tbody>\n",
       "</table>\n",
       "<p>100 rows × 5 columns</p>\n",
       "</div>"
      ],
      "text/plain": [
       "    Batch   Location   Responsible     Status     Target\n",
       "0    1632       Dock   James Healy  On Status 2018-12-22\n",
       "1    1446    Shipped    John Jones  On Status 2018-12-18\n",
       "2    1871    Shipped  David Murphy  On Status 2018-12-12\n",
       "3    1027    Shipped  Mary O'Toole   Released 2018-12-31\n",
       "4    1985       Dock    John Jones  On Status 2018-12-11\n",
       "5    1736  Warehouse   Emily Walsh  On Status 2018-12-18\n",
       "6    1052       Dock   James Healy  On Status 2018-12-17\n",
       "7    1530  Warehouse   James Healy   Released 2018-12-12\n",
       "8    1636       Dock   James Healy   Released 2018-12-15\n",
       "9    1971    Shipped  Mary O'Toole    On Hold 2018-12-04\n",
       "10   1516       Dock    John Jones  On Status 2018-12-28\n",
       "11   1630  Warehouse   James Healy    On Hold 2018-12-11\n",
       "12   1227       Dock   James Healy   Released 2018-12-27\n",
       "13   1553  Warehouse    John Jones    On Hold 2018-12-30\n",
       "14   1893  Warehouse   James Healy    On Hold 2018-12-16\n",
       "15   1948  Warehouse   Emily Walsh   Released 2018-12-26\n",
       "16   1496    Shipped  Mary O'Toole  On Status 2018-12-06\n",
       "17   1065    Shipped  Mary O'Toole  On Status 2018-12-25\n",
       "18   1984    Shipped  Mary O'Toole  On Status 2018-12-14\n",
       "19   1204    Shipped  Mary O'Toole  On Status 2018-12-19\n",
       "20   1824    Shipped    John Jones  On Status 2018-12-12\n",
       "21   1618       Dock  Mary O'Toole    On Hold 2018-12-31\n",
       "22   1381    Shipped   Emily Walsh   Released 2018-12-02\n",
       "23   1180    Shipped   James Healy  On Status 2018-12-24\n",
       "24   1887  Warehouse   Emily Walsh   Released 2018-12-01\n",
       "25   1245  Warehouse   James Healy   Released 2018-12-03\n",
       "26   1027    Shipped   Emily Walsh  On Status 2018-12-02\n",
       "27   1964  Warehouse  David Murphy  On Status 2018-12-15\n",
       "28   1130       Dock   Emily Walsh  On Status 2018-12-25\n",
       "29   1832       Dock    John Jones  On Status 2018-12-01\n",
       "..    ...        ...           ...        ...        ...\n",
       "70   1191  Warehouse  David Murphy  On Status 2018-12-17\n",
       "71   1116    Shipped   James Healy  On Status 2018-12-26\n",
       "72   1587  Warehouse   Emily Walsh    On Hold 2018-12-31\n",
       "73   1961    Shipped  Mary O'Toole  On Status 2018-12-23\n",
       "74   1887  Warehouse    John Jones  On Status 2018-12-11\n",
       "75   1048  Warehouse   James Healy   Released 2018-12-06\n",
       "76   1565       Dock  Mary O'Toole   Released 2018-12-04\n",
       "77   1581    Shipped  Mary O'Toole   Released 2018-12-24\n",
       "78   1724  Warehouse  Mary O'Toole   Released 2018-12-16\n",
       "79   1714       Dock    John Jones   Released 2018-12-27\n",
       "80   1927  Warehouse   Emily Walsh   Released 2018-12-27\n",
       "81   1053       Dock  David Murphy   Released 2018-12-12\n",
       "82   1705       Dock   Emily Walsh  On Status 2018-12-09\n",
       "83   1024       Dock   Emily Walsh   Released 2018-12-04\n",
       "84   1500  Warehouse  David Murphy   Released 2018-12-04\n",
       "85   1956       Dock   James Healy  On Status 2018-12-27\n",
       "86   1847       Dock  Mary O'Toole  On Status 2018-12-08\n",
       "87   1022    Shipped    John Jones    On Hold 2018-12-28\n",
       "88   1612    Shipped    John Jones  On Status 2018-12-20\n",
       "89   1917       Dock   Emily Walsh  On Status 2018-12-11\n",
       "90   1716    Shipped  David Murphy    On Hold 2018-12-13\n",
       "91   1879    Shipped   Emily Walsh    On Hold 2018-12-30\n",
       "92   1512  Warehouse  David Murphy  On Status 2018-12-25\n",
       "93   1394       Dock  Mary O'Toole   Released 2018-12-25\n",
       "94   1573  Warehouse  David Murphy    On Hold 2018-12-31\n",
       "95   1299    Shipped   James Healy   Released 2018-12-15\n",
       "96   1552       Dock   James Healy   Released 2018-12-11\n",
       "97   1164    Shipped   Emily Walsh  On Status 2018-12-02\n",
       "98   1946  Warehouse   James Healy  On Status 2018-12-14\n",
       "99   1447  Warehouse    John Jones   Released 2018-12-30\n",
       "\n",
       "[100 rows x 5 columns]"
      ]
     },
     "execution_count": 23,
     "metadata": {},
     "output_type": "execute_result"
    }
   ],
   "source": [
    "df = pd.DataFrame(data)\n",
    "df"
   ]
  },
  {
   "cell_type": "code",
   "execution_count": 11,
   "metadata": {
    "collapsed": true
   },
   "outputs": [],
   "source": [
    "import matplotlib.pyplot as plt  # shorthand import for matplotlib library"
   ]
  },
  {
   "cell_type": "markdown",
   "metadata": {},
   "source": [
    "The histogram below shows the actual breakdown per number of batches assigned to each employee in the data set. Although the probaility of workload distribution is equal for each employee, the actual distribution shows variation. "
   ]
  },
  {
   "cell_type": "code",
   "execution_count": 12,
   "metadata": {},
   "outputs": [
    {
     "data": {
      "image/png": "[encoded data removed]",
      "text/plain": [
       "<matplotlib.figure.Figure at 0x19d46f54e48>"
      ]
     },
     "metadata": {},
     "output_type": "display_data"
    }
   ],
   "source": [
    "plt.hist(Responsibles)\n",
    "plt.show()"
   ]
  },
  {
   "cell_type": "code",
   "execution_count": 14,
   "metadata": {},
   "outputs": [
    {
     "data": {
      "image/png": "[encoded data removed]",
      "text/plain": [
       "<matplotlib.figure.Figure at 0x19d4906c550>"
      ]
     },
     "metadata": {},
     "output_type": "display_data"
    }
   ],
   "source": [
    "plt.hist(Statuss)\n",
    "plt.show()"
   ]
  },
  {
   "cell_type": "code",
   "execution_count": 15,
   "metadata": {},
   "outputs": [
    {
     "data": {
      "image/png": "[encoded data removed]",
      "text/plain": [
       "<matplotlib.figure.Figure at 0x19d490dc780>"
      ]
     },
     "metadata": {},
     "output_type": "display_data"
    }
   ],
   "source": [
    "plt.hist(Locations)\n",
    "plt.show()"
   ]
  },
  {
   "cell_type": "code",
   "execution_count": 16,
   "metadata": {
    "collapsed": true
   },
   "outputs": [],
   "source": [
    "import seaborn as sns # import seaborn for advanced graphics"
   ]
  },
  {
   "cell_type": "markdown",
   "metadata": {},
   "source": []
  },
  {
   "cell_type": "code",
   "execution_count": 18,
   "metadata": {},
   "outputs": [
    {
     "data": {
      "image/png": "[encoded data removed]",
      "text/plain": [
       "<matplotlib.figure.Figure at 0x19d49137dd8>"
      ]
     },
     "metadata": {},
     "output_type": "display_data"
    }
   ],
   "source": [
    "x = [Targets]\n",
    "y = [Batch]\n",
    "plt.plot(x, y)\n",
    "plt.show()"
   ]
  },
  {
   "cell_type": "code",
   "execution_count": 34,
   "metadata": {},
   "outputs": [
    {
     "data": {
      "image/png": "[encoded data removed]",
      "text/plain": [
       "<matplotlib.figure.Figure at 0x19d4991f208>"
      ]
     },
     "metadata": {},
     "output_type": "display_data"
    }
   ],
   "source": [
    "plt.plot([Targets], [Batch], 'ro')\n",
    "plt.show()"
   ]
  },
  {
   "cell_type": "code",
   "execution_count": 37,
   "metadata": {},
   "outputs": [
    {
     "data": {
      "image/png": "[encoded data removed]",
      "text/plain": [
       "<matplotlib.figure.Figure at 0x19d4993e400>"
      ]
     },
     "metadata": {},
     "output_type": "display_data"
    }
   ],
   "source": [
    "plt.plot([Targets], [Responsibles], 'bs') # Plot Target dates vs person responsible in blue squares\n",
    "plt.show()"
   ]
  },
  {
   "cell_type": "code",
   "execution_count": null,
   "metadata": {
    "collapsed": true
   },
   "outputs": [],
   "source": []
  },
  {
   "cell_type": "code",
   "execution_count": null,
   "metadata": {
    "collapsed": true
   },
   "outputs": [],
   "source": []
  },
  {
   "cell_type": "code",
   "execution_count": null,
   "metadata": {
    "collapsed": true
   },
   "outputs": [],
   "source": []
  },
  {
   "cell_type": "code",
   "execution_count": null,
   "metadata": {
    "collapsed": true
   },
   "outputs": [],
   "source": []
  },
  {
   "cell_type": "code",
   "execution_count": null,
   "metadata": {
    "collapsed": true
   },
   "outputs": [],
   "source": []
  },
  {
   "cell_type": "markdown",
   "metadata": {},
   "source": [
    "## References\n",
    "https://pandas.pydata.org/pandas-docs/stable/generated/pandas.date_range.html\n",
    "https://docs.scipy.org/doc/numpy/reference/generated/numpy.random.choice.html"
   ]
  },
  {
   "cell_type": "code",
   "execution_count": null,
   "metadata": {
    "collapsed": true
   },
   "outputs": [],
   "source": []
  },
  {
   "cell_type": "code",
   "execution_count": null,
   "metadata": {
    "collapsed": true
   },
   "outputs": [],
   "source": []
  }
 ],
 "metadata": {
  "kernelspec": {
   "display_name": "Python 3",
   "language": "python",
   "name": "python3"
  },
  "language_info": {
   "codemirror_mode": {
    "name": "ipython",
    "version": 3
   },
   "file_extension": ".py",
   "mimetype": "text/x-python",
   "name": "python",
   "nbconvert_exporter": "python",
   "pygments_lexer": "ipython3",
   "version": "3.6.3"
  }
 },
 "nbformat": 4,
 "nbformat_minor": 2
}
