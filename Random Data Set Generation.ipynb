{
 "cells": [
  {
   "cell_type": "markdown",
   "metadata": {},
   "source": [
    "# Generation of a random data set\n",
    "\n",
    "![Numpy](https://cdn-images-1.medium.com/max/1200/1*L0yNfRdiH8DfYuiJTKPxww.png)\n",
    "\n",
    "The following is a dataset synthesised using Python. It is a randomly generated simulation of data based on real life phenomenon. The basis of the data set is manufacturing data containing a manufatured batch number with corresponding location, name of person responsible for ensuring targets are met, the current status of the manufatured batch and a target customer delivery date.  \n",
    "\n",
    "One hundred random **batch** numbers have been generated. The **status** of the batches fall into 3 different categories: on hold, on status and released. Each status has a different probability level: on hold (0.15), on status (0.35) and released (0.5). The probability is based on the maufacturing process being less likely to have an issue on a manufactured batch resulting in a batch being placed 'on hold'. 'On status' is an interim dispostion of a manufactred batch prior to being released but with no known issue. \n",
    "\n",
    "The current **location** of each batch is defined as per: Warehouse, Dock or Shipped. Each location is as likely as the others to be chosen as the manufactured batches move through the process.  \n",
    "\n",
    "The **target** date is the date expected for each batch to be delivered to the customer.\n",
    "\n",
    "The employee **responsible** for meeting the target of each batch is outlined. The probability of each employee is the evenly distributed (5 employees with 0.2 probability) to be assigned responsibility for meeting the target date. \n"
   ]
  },
  {
   "cell_type": "code",
   "execution_count": 1,
   "metadata": {
    "collapsed": true
   },
   "outputs": [],
   "source": [
    "import numpy as np # Numerical Python\n",
    "import pandas as pd # Pandas for data visualisation\n",
    "import matplotlib.pyplot as plt  # shorthand import for matplotlib library\n",
    "import seaborn as sns # import seaborn for advanced graphics\n",
    "%matplotlib inline # magic command to include graphs in notebook"
   ]
  },
  {
   "cell_type": "code",
   "execution_count": 2,
   "metadata": {},
   "outputs": [
    {
     "data": {
      "text/plain": [
       "array([1137, 1349, 1223, 1108, 1230, 1574, 1235, 1077, 1732, 1144, 1910,\n",
       "       1779, 1570, 1126, 1651, 1825, 1388, 1103, 1232, 1242, 1658, 1054,\n",
       "       1491, 1676, 1794, 1213, 1182, 1753, 1619, 1163, 1156, 1140, 1116,\n",
       "       1493, 1329, 1045, 1012, 1113, 1711, 1538, 1421, 1145, 1226, 1338,\n",
       "       1845, 1332, 1266, 1198, 1026, 1146, 1168, 1198, 1892, 1594, 1728,\n",
       "       1057, 1288, 1989, 1892, 1064, 1928, 1499, 1275, 1134, 1809, 1871,\n",
       "       1141, 1564, 1881, 1928, 1421, 1597, 1089, 1210, 1982, 1032, 1740,\n",
       "       1144, 1191, 1168, 1849, 1790, 1166, 1746, 1001, 1166, 1574, 1790,\n",
       "       1914, 1435, 1408, 1837, 1133, 1487, 1875, 1610, 1328, 1465, 1250,\n",
       "       1581])"
      ]
     },
     "execution_count": 2,
     "metadata": {},
     "output_type": "execute_result"
    }
   ],
   "source": [
    "Batch = np.random.randint(1000, 2000, size=100) # Use Numpy to generate random intergers \n",
    "Batch # Display output of 100 random intergers between 1000 and 2000 to use as Batch Numbers"
   ]
  },
  {
   "cell_type": "code",
   "execution_count": 3,
   "metadata": {
    "collapsed": true
   },
   "outputs": [],
   "source": [
    "Target = pd.date_range(start='12/01/2018', periods=31) # Use Pandas to generate dates over 31 periods\n",
    "Targets = np.random.choice(Target, 100) # Use Numpy to generate 100 random dates based on 'Target'"
   ]
  },
  {
   "cell_type": "code",
   "execution_count": 4,
   "metadata": {
    "collapsed": true
   },
   "outputs": [],
   "source": [
    "Status = [\"On Hold\", \"On Status\", \"Released\"] # Specify 3 categories that can be for 'Status'\n",
    "Statuss = np.random.choice(Status, 100, p=[0.15, 0.35, 0.50]) # Use Numpy to generate 100 random outputs based on 'Status' with probability specified per category"
   ]
  },
  {
   "cell_type": "code",
   "execution_count": 5,
   "metadata": {
    "collapsed": true
   },
   "outputs": [],
   "source": [
    "Location = [\"Shipped\", \"Dock\", \"Warehouse\"] # Specify 3 categories that can be for 'Location'\n",
    "Locations = np.random.choice(Location, 100, p=[0.34, 0.33, 0.33]) # Use Numpy to generate 100 random outputs based on 'Status' with probability specified per category"
   ]
  },
  {
   "cell_type": "code",
   "execution_count": 6,
   "metadata": {
    "collapsed": true
   },
   "outputs": [],
   "source": [
    "Responsible = [\"John Jones\", \"Mary O'Toole\", \"David Murphy\", \"Emily Walsh\",\"James Healy\"] # Specify 5 people in the category\n",
    "Responsibles = np.random.choice(Responsible, 100,  p=[0.2, 0.2, 0.2, 0.2, 0.2]) # Use Numpy to generate 100 random outputs based on 'Status' with probability specified per category"
   ]
  },
  {
   "cell_type": "code",
   "execution_count": 7,
   "metadata": {
    "collapsed": true
   },
   "outputs": [],
   "source": [
    "data = {'Batch':Batch,'Target':Targets,'Status':Statuss,'Location':Locations,'Responsible':Responsibles} # Identify Column Headings for dataframe"
   ]
  },
  {
   "cell_type": "code",
   "execution_count": 26,
   "metadata": {},
   "outputs": [
    {
     "data": {
      "text/html": [
       "<div>\n",
       "<style>\n",
       "    .dataframe thead tr:only-child th {\n",
       "        text-align: right;\n",
       "    }\n",
       "\n",
       "    .dataframe thead th {\n",
       "        text-align: left;\n",
       "    }\n",
       "\n",
       "    .dataframe tbody tr th {\n",
       "        vertical-align: top;\n",
       "    }\n",
       "</style>\n",
       "<table border=\"1\" class=\"dataframe\">\n",
       "  <thead>\n",
       "    <tr style=\"text-align: right;\">\n",
       "      <th></th>\n",
       "      <th>Batch</th>\n",
       "      <th>Location</th>\n",
       "      <th>Responsible</th>\n",
       "      <th>Status</th>\n",
       "      <th>Target</th>\n",
       "    </tr>\n",
       "  </thead>\n",
       "  <tbody>\n",
       "    <tr>\n",
       "      <th>0</th>\n",
       "      <td>1137</td>\n",
       "      <td>Dock</td>\n",
       "      <td>Mary O'Toole</td>\n",
       "      <td>On Hold</td>\n",
       "      <td>2018-12-28</td>\n",
       "    </tr>\n",
       "    <tr>\n",
       "      <th>1</th>\n",
       "      <td>1349</td>\n",
       "      <td>Shipped</td>\n",
       "      <td>Emily Walsh</td>\n",
       "      <td>On Hold</td>\n",
       "      <td>2018-12-12</td>\n",
       "    </tr>\n",
       "    <tr>\n",
       "      <th>2</th>\n",
       "      <td>1223</td>\n",
       "      <td>Warehouse</td>\n",
       "      <td>John Jones</td>\n",
       "      <td>On Status</td>\n",
       "      <td>2018-12-18</td>\n",
       "    </tr>\n",
       "    <tr>\n",
       "      <th>3</th>\n",
       "      <td>1108</td>\n",
       "      <td>Shipped</td>\n",
       "      <td>David Murphy</td>\n",
       "      <td>Released</td>\n",
       "      <td>2018-12-14</td>\n",
       "    </tr>\n",
       "    <tr>\n",
       "      <th>4</th>\n",
       "      <td>1230</td>\n",
       "      <td>Warehouse</td>\n",
       "      <td>Emily Walsh</td>\n",
       "      <td>On Status</td>\n",
       "      <td>2018-12-04</td>\n",
       "    </tr>\n",
       "    <tr>\n",
       "      <th>5</th>\n",
       "      <td>1574</td>\n",
       "      <td>Dock</td>\n",
       "      <td>David Murphy</td>\n",
       "      <td>On Status</td>\n",
       "      <td>2018-12-22</td>\n",
       "    </tr>\n",
       "    <tr>\n",
       "      <th>6</th>\n",
       "      <td>1235</td>\n",
       "      <td>Warehouse</td>\n",
       "      <td>James Healy</td>\n",
       "      <td>On Hold</td>\n",
       "      <td>2018-12-10</td>\n",
       "    </tr>\n",
       "    <tr>\n",
       "      <th>7</th>\n",
       "      <td>1077</td>\n",
       "      <td>Dock</td>\n",
       "      <td>James Healy</td>\n",
       "      <td>Released</td>\n",
       "      <td>2018-12-16</td>\n",
       "    </tr>\n",
       "    <tr>\n",
       "      <th>8</th>\n",
       "      <td>1732</td>\n",
       "      <td>Warehouse</td>\n",
       "      <td>Emily Walsh</td>\n",
       "      <td>On Status</td>\n",
       "      <td>2018-12-16</td>\n",
       "    </tr>\n",
       "    <tr>\n",
       "      <th>9</th>\n",
       "      <td>1144</td>\n",
       "      <td>Dock</td>\n",
       "      <td>David Murphy</td>\n",
       "      <td>Released</td>\n",
       "      <td>2018-12-06</td>\n",
       "    </tr>\n",
       "    <tr>\n",
       "      <th>10</th>\n",
       "      <td>1910</td>\n",
       "      <td>Warehouse</td>\n",
       "      <td>James Healy</td>\n",
       "      <td>On Status</td>\n",
       "      <td>2018-12-08</td>\n",
       "    </tr>\n",
       "    <tr>\n",
       "      <th>11</th>\n",
       "      <td>1779</td>\n",
       "      <td>Shipped</td>\n",
       "      <td>John Jones</td>\n",
       "      <td>Released</td>\n",
       "      <td>2018-12-27</td>\n",
       "    </tr>\n",
       "    <tr>\n",
       "      <th>12</th>\n",
       "      <td>1570</td>\n",
       "      <td>Shipped</td>\n",
       "      <td>Mary O'Toole</td>\n",
       "      <td>Released</td>\n",
       "      <td>2018-12-28</td>\n",
       "    </tr>\n",
       "    <tr>\n",
       "      <th>13</th>\n",
       "      <td>1126</td>\n",
       "      <td>Dock</td>\n",
       "      <td>Emily Walsh</td>\n",
       "      <td>On Status</td>\n",
       "      <td>2018-12-07</td>\n",
       "    </tr>\n",
       "    <tr>\n",
       "      <th>14</th>\n",
       "      <td>1651</td>\n",
       "      <td>Dock</td>\n",
       "      <td>John Jones</td>\n",
       "      <td>Released</td>\n",
       "      <td>2018-12-14</td>\n",
       "    </tr>\n",
       "    <tr>\n",
       "      <th>15</th>\n",
       "      <td>1825</td>\n",
       "      <td>Dock</td>\n",
       "      <td>Emily Walsh</td>\n",
       "      <td>Released</td>\n",
       "      <td>2018-12-02</td>\n",
       "    </tr>\n",
       "    <tr>\n",
       "      <th>16</th>\n",
       "      <td>1388</td>\n",
       "      <td>Dock</td>\n",
       "      <td>David Murphy</td>\n",
       "      <td>Released</td>\n",
       "      <td>2018-12-16</td>\n",
       "    </tr>\n",
       "    <tr>\n",
       "      <th>17</th>\n",
       "      <td>1103</td>\n",
       "      <td>Warehouse</td>\n",
       "      <td>James Healy</td>\n",
       "      <td>Released</td>\n",
       "      <td>2018-12-31</td>\n",
       "    </tr>\n",
       "    <tr>\n",
       "      <th>18</th>\n",
       "      <td>1232</td>\n",
       "      <td>Warehouse</td>\n",
       "      <td>David Murphy</td>\n",
       "      <td>Released</td>\n",
       "      <td>2018-12-14</td>\n",
       "    </tr>\n",
       "    <tr>\n",
       "      <th>19</th>\n",
       "      <td>1242</td>\n",
       "      <td>Warehouse</td>\n",
       "      <td>John Jones</td>\n",
       "      <td>On Status</td>\n",
       "      <td>2018-12-21</td>\n",
       "    </tr>\n",
       "    <tr>\n",
       "      <th>20</th>\n",
       "      <td>1658</td>\n",
       "      <td>Dock</td>\n",
       "      <td>David Murphy</td>\n",
       "      <td>On Hold</td>\n",
       "      <td>2018-12-20</td>\n",
       "    </tr>\n",
       "    <tr>\n",
       "      <th>21</th>\n",
       "      <td>1054</td>\n",
       "      <td>Warehouse</td>\n",
       "      <td>Emily Walsh</td>\n",
       "      <td>Released</td>\n",
       "      <td>2018-12-18</td>\n",
       "    </tr>\n",
       "    <tr>\n",
       "      <th>22</th>\n",
       "      <td>1491</td>\n",
       "      <td>Warehouse</td>\n",
       "      <td>John Jones</td>\n",
       "      <td>Released</td>\n",
       "      <td>2018-12-02</td>\n",
       "    </tr>\n",
       "    <tr>\n",
       "      <th>23</th>\n",
       "      <td>1676</td>\n",
       "      <td>Dock</td>\n",
       "      <td>Mary O'Toole</td>\n",
       "      <td>Released</td>\n",
       "      <td>2018-12-23</td>\n",
       "    </tr>\n",
       "    <tr>\n",
       "      <th>24</th>\n",
       "      <td>1794</td>\n",
       "      <td>Dock</td>\n",
       "      <td>Emily Walsh</td>\n",
       "      <td>On Status</td>\n",
       "      <td>2018-12-16</td>\n",
       "    </tr>\n",
       "    <tr>\n",
       "      <th>25</th>\n",
       "      <td>1213</td>\n",
       "      <td>Warehouse</td>\n",
       "      <td>Emily Walsh</td>\n",
       "      <td>Released</td>\n",
       "      <td>2018-12-24</td>\n",
       "    </tr>\n",
       "    <tr>\n",
       "      <th>26</th>\n",
       "      <td>1182</td>\n",
       "      <td>Shipped</td>\n",
       "      <td>James Healy</td>\n",
       "      <td>Released</td>\n",
       "      <td>2018-12-23</td>\n",
       "    </tr>\n",
       "    <tr>\n",
       "      <th>27</th>\n",
       "      <td>1753</td>\n",
       "      <td>Dock</td>\n",
       "      <td>Emily Walsh</td>\n",
       "      <td>On Status</td>\n",
       "      <td>2018-12-23</td>\n",
       "    </tr>\n",
       "    <tr>\n",
       "      <th>28</th>\n",
       "      <td>1619</td>\n",
       "      <td>Dock</td>\n",
       "      <td>Mary O'Toole</td>\n",
       "      <td>On Status</td>\n",
       "      <td>2018-12-13</td>\n",
       "    </tr>\n",
       "    <tr>\n",
       "      <th>29</th>\n",
       "      <td>1163</td>\n",
       "      <td>Warehouse</td>\n",
       "      <td>Mary O'Toole</td>\n",
       "      <td>On Status</td>\n",
       "      <td>2018-12-20</td>\n",
       "    </tr>\n",
       "    <tr>\n",
       "      <th>...</th>\n",
       "      <td>...</td>\n",
       "      <td>...</td>\n",
       "      <td>...</td>\n",
       "      <td>...</td>\n",
       "      <td>...</td>\n",
       "    </tr>\n",
       "    <tr>\n",
       "      <th>70</th>\n",
       "      <td>1421</td>\n",
       "      <td>Dock</td>\n",
       "      <td>Mary O'Toole</td>\n",
       "      <td>Released</td>\n",
       "      <td>2018-12-06</td>\n",
       "    </tr>\n",
       "    <tr>\n",
       "      <th>71</th>\n",
       "      <td>1597</td>\n",
       "      <td>Dock</td>\n",
       "      <td>Mary O'Toole</td>\n",
       "      <td>Released</td>\n",
       "      <td>2018-12-20</td>\n",
       "    </tr>\n",
       "    <tr>\n",
       "      <th>72</th>\n",
       "      <td>1089</td>\n",
       "      <td>Shipped</td>\n",
       "      <td>David Murphy</td>\n",
       "      <td>Released</td>\n",
       "      <td>2018-12-09</td>\n",
       "    </tr>\n",
       "    <tr>\n",
       "      <th>73</th>\n",
       "      <td>1210</td>\n",
       "      <td>Dock</td>\n",
       "      <td>Emily Walsh</td>\n",
       "      <td>Released</td>\n",
       "      <td>2018-12-14</td>\n",
       "    </tr>\n",
       "    <tr>\n",
       "      <th>74</th>\n",
       "      <td>1982</td>\n",
       "      <td>Dock</td>\n",
       "      <td>David Murphy</td>\n",
       "      <td>Released</td>\n",
       "      <td>2018-12-11</td>\n",
       "    </tr>\n",
       "    <tr>\n",
       "      <th>75</th>\n",
       "      <td>1032</td>\n",
       "      <td>Dock</td>\n",
       "      <td>John Jones</td>\n",
       "      <td>Released</td>\n",
       "      <td>2018-12-27</td>\n",
       "    </tr>\n",
       "    <tr>\n",
       "      <th>76</th>\n",
       "      <td>1740</td>\n",
       "      <td>Shipped</td>\n",
       "      <td>John Jones</td>\n",
       "      <td>Released</td>\n",
       "      <td>2018-12-18</td>\n",
       "    </tr>\n",
       "    <tr>\n",
       "      <th>77</th>\n",
       "      <td>1144</td>\n",
       "      <td>Shipped</td>\n",
       "      <td>Mary O'Toole</td>\n",
       "      <td>On Status</td>\n",
       "      <td>2018-12-08</td>\n",
       "    </tr>\n",
       "    <tr>\n",
       "      <th>78</th>\n",
       "      <td>1191</td>\n",
       "      <td>Dock</td>\n",
       "      <td>Mary O'Toole</td>\n",
       "      <td>Released</td>\n",
       "      <td>2018-12-30</td>\n",
       "    </tr>\n",
       "    <tr>\n",
       "      <th>79</th>\n",
       "      <td>1168</td>\n",
       "      <td>Warehouse</td>\n",
       "      <td>James Healy</td>\n",
       "      <td>On Status</td>\n",
       "      <td>2018-12-23</td>\n",
       "    </tr>\n",
       "    <tr>\n",
       "      <th>80</th>\n",
       "      <td>1849</td>\n",
       "      <td>Warehouse</td>\n",
       "      <td>James Healy</td>\n",
       "      <td>Released</td>\n",
       "      <td>2018-12-15</td>\n",
       "    </tr>\n",
       "    <tr>\n",
       "      <th>81</th>\n",
       "      <td>1790</td>\n",
       "      <td>Dock</td>\n",
       "      <td>James Healy</td>\n",
       "      <td>Released</td>\n",
       "      <td>2018-12-01</td>\n",
       "    </tr>\n",
       "    <tr>\n",
       "      <th>82</th>\n",
       "      <td>1166</td>\n",
       "      <td>Shipped</td>\n",
       "      <td>James Healy</td>\n",
       "      <td>On Status</td>\n",
       "      <td>2018-12-07</td>\n",
       "    </tr>\n",
       "    <tr>\n",
       "      <th>83</th>\n",
       "      <td>1746</td>\n",
       "      <td>Warehouse</td>\n",
       "      <td>James Healy</td>\n",
       "      <td>On Status</td>\n",
       "      <td>2018-12-17</td>\n",
       "    </tr>\n",
       "    <tr>\n",
       "      <th>84</th>\n",
       "      <td>1001</td>\n",
       "      <td>Warehouse</td>\n",
       "      <td>John Jones</td>\n",
       "      <td>On Hold</td>\n",
       "      <td>2018-12-30</td>\n",
       "    </tr>\n",
       "    <tr>\n",
       "      <th>85</th>\n",
       "      <td>1166</td>\n",
       "      <td>Warehouse</td>\n",
       "      <td>James Healy</td>\n",
       "      <td>On Status</td>\n",
       "      <td>2018-12-12</td>\n",
       "    </tr>\n",
       "    <tr>\n",
       "      <th>86</th>\n",
       "      <td>1574</td>\n",
       "      <td>Shipped</td>\n",
       "      <td>David Murphy</td>\n",
       "      <td>Released</td>\n",
       "      <td>2018-12-26</td>\n",
       "    </tr>\n",
       "    <tr>\n",
       "      <th>87</th>\n",
       "      <td>1790</td>\n",
       "      <td>Dock</td>\n",
       "      <td>John Jones</td>\n",
       "      <td>Released</td>\n",
       "      <td>2018-12-25</td>\n",
       "    </tr>\n",
       "    <tr>\n",
       "      <th>88</th>\n",
       "      <td>1914</td>\n",
       "      <td>Warehouse</td>\n",
       "      <td>Mary O'Toole</td>\n",
       "      <td>On Hold</td>\n",
       "      <td>2018-12-10</td>\n",
       "    </tr>\n",
       "    <tr>\n",
       "      <th>89</th>\n",
       "      <td>1435</td>\n",
       "      <td>Shipped</td>\n",
       "      <td>James Healy</td>\n",
       "      <td>Released</td>\n",
       "      <td>2018-12-01</td>\n",
       "    </tr>\n",
       "    <tr>\n",
       "      <th>90</th>\n",
       "      <td>1408</td>\n",
       "      <td>Warehouse</td>\n",
       "      <td>John Jones</td>\n",
       "      <td>Released</td>\n",
       "      <td>2018-12-04</td>\n",
       "    </tr>\n",
       "    <tr>\n",
       "      <th>91</th>\n",
       "      <td>1837</td>\n",
       "      <td>Warehouse</td>\n",
       "      <td>David Murphy</td>\n",
       "      <td>Released</td>\n",
       "      <td>2018-12-20</td>\n",
       "    </tr>\n",
       "    <tr>\n",
       "      <th>92</th>\n",
       "      <td>1133</td>\n",
       "      <td>Warehouse</td>\n",
       "      <td>John Jones</td>\n",
       "      <td>On Status</td>\n",
       "      <td>2018-12-14</td>\n",
       "    </tr>\n",
       "    <tr>\n",
       "      <th>93</th>\n",
       "      <td>1487</td>\n",
       "      <td>Shipped</td>\n",
       "      <td>David Murphy</td>\n",
       "      <td>Released</td>\n",
       "      <td>2018-12-18</td>\n",
       "    </tr>\n",
       "    <tr>\n",
       "      <th>94</th>\n",
       "      <td>1875</td>\n",
       "      <td>Shipped</td>\n",
       "      <td>James Healy</td>\n",
       "      <td>On Status</td>\n",
       "      <td>2018-12-19</td>\n",
       "    </tr>\n",
       "    <tr>\n",
       "      <th>95</th>\n",
       "      <td>1610</td>\n",
       "      <td>Dock</td>\n",
       "      <td>James Healy</td>\n",
       "      <td>Released</td>\n",
       "      <td>2018-12-07</td>\n",
       "    </tr>\n",
       "    <tr>\n",
       "      <th>96</th>\n",
       "      <td>1328</td>\n",
       "      <td>Warehouse</td>\n",
       "      <td>James Healy</td>\n",
       "      <td>On Status</td>\n",
       "      <td>2018-12-09</td>\n",
       "    </tr>\n",
       "    <tr>\n",
       "      <th>97</th>\n",
       "      <td>1465</td>\n",
       "      <td>Warehouse</td>\n",
       "      <td>Emily Walsh</td>\n",
       "      <td>Released</td>\n",
       "      <td>2018-12-16</td>\n",
       "    </tr>\n",
       "    <tr>\n",
       "      <th>98</th>\n",
       "      <td>1250</td>\n",
       "      <td>Shipped</td>\n",
       "      <td>Emily Walsh</td>\n",
       "      <td>Released</td>\n",
       "      <td>2018-12-18</td>\n",
       "    </tr>\n",
       "    <tr>\n",
       "      <th>99</th>\n",
       "      <td>1581</td>\n",
       "      <td>Dock</td>\n",
       "      <td>John Jones</td>\n",
       "      <td>Released</td>\n",
       "      <td>2018-12-09</td>\n",
       "    </tr>\n",
       "  </tbody>\n",
       "</table>\n",
       "<p>100 rows × 5 columns</p>\n",
       "</div>"
      ],
      "text/plain": [
       "    Batch   Location   Responsible     Status     Target\n",
       "0    1137       Dock  Mary O'Toole    On Hold 2018-12-28\n",
       "1    1349    Shipped   Emily Walsh    On Hold 2018-12-12\n",
       "2    1223  Warehouse    John Jones  On Status 2018-12-18\n",
       "3    1108    Shipped  David Murphy   Released 2018-12-14\n",
       "4    1230  Warehouse   Emily Walsh  On Status 2018-12-04\n",
       "5    1574       Dock  David Murphy  On Status 2018-12-22\n",
       "6    1235  Warehouse   James Healy    On Hold 2018-12-10\n",
       "7    1077       Dock   James Healy   Released 2018-12-16\n",
       "8    1732  Warehouse   Emily Walsh  On Status 2018-12-16\n",
       "9    1144       Dock  David Murphy   Released 2018-12-06\n",
       "10   1910  Warehouse   James Healy  On Status 2018-12-08\n",
       "11   1779    Shipped    John Jones   Released 2018-12-27\n",
       "12   1570    Shipped  Mary O'Toole   Released 2018-12-28\n",
       "13   1126       Dock   Emily Walsh  On Status 2018-12-07\n",
       "14   1651       Dock    John Jones   Released 2018-12-14\n",
       "15   1825       Dock   Emily Walsh   Released 2018-12-02\n",
       "16   1388       Dock  David Murphy   Released 2018-12-16\n",
       "17   1103  Warehouse   James Healy   Released 2018-12-31\n",
       "18   1232  Warehouse  David Murphy   Released 2018-12-14\n",
       "19   1242  Warehouse    John Jones  On Status 2018-12-21\n",
       "20   1658       Dock  David Murphy    On Hold 2018-12-20\n",
       "21   1054  Warehouse   Emily Walsh   Released 2018-12-18\n",
       "22   1491  Warehouse    John Jones   Released 2018-12-02\n",
       "23   1676       Dock  Mary O'Toole   Released 2018-12-23\n",
       "24   1794       Dock   Emily Walsh  On Status 2018-12-16\n",
       "25   1213  Warehouse   Emily Walsh   Released 2018-12-24\n",
       "26   1182    Shipped   James Healy   Released 2018-12-23\n",
       "27   1753       Dock   Emily Walsh  On Status 2018-12-23\n",
       "28   1619       Dock  Mary O'Toole  On Status 2018-12-13\n",
       "29   1163  Warehouse  Mary O'Toole  On Status 2018-12-20\n",
       "..    ...        ...           ...        ...        ...\n",
       "70   1421       Dock  Mary O'Toole   Released 2018-12-06\n",
       "71   1597       Dock  Mary O'Toole   Released 2018-12-20\n",
       "72   1089    Shipped  David Murphy   Released 2018-12-09\n",
       "73   1210       Dock   Emily Walsh   Released 2018-12-14\n",
       "74   1982       Dock  David Murphy   Released 2018-12-11\n",
       "75   1032       Dock    John Jones   Released 2018-12-27\n",
       "76   1740    Shipped    John Jones   Released 2018-12-18\n",
       "77   1144    Shipped  Mary O'Toole  On Status 2018-12-08\n",
       "78   1191       Dock  Mary O'Toole   Released 2018-12-30\n",
       "79   1168  Warehouse   James Healy  On Status 2018-12-23\n",
       "80   1849  Warehouse   James Healy   Released 2018-12-15\n",
       "81   1790       Dock   James Healy   Released 2018-12-01\n",
       "82   1166    Shipped   James Healy  On Status 2018-12-07\n",
       "83   1746  Warehouse   James Healy  On Status 2018-12-17\n",
       "84   1001  Warehouse    John Jones    On Hold 2018-12-30\n",
       "85   1166  Warehouse   James Healy  On Status 2018-12-12\n",
       "86   1574    Shipped  David Murphy   Released 2018-12-26\n",
       "87   1790       Dock    John Jones   Released 2018-12-25\n",
       "88   1914  Warehouse  Mary O'Toole    On Hold 2018-12-10\n",
       "89   1435    Shipped   James Healy   Released 2018-12-01\n",
       "90   1408  Warehouse    John Jones   Released 2018-12-04\n",
       "91   1837  Warehouse  David Murphy   Released 2018-12-20\n",
       "92   1133  Warehouse    John Jones  On Status 2018-12-14\n",
       "93   1487    Shipped  David Murphy   Released 2018-12-18\n",
       "94   1875    Shipped   James Healy  On Status 2018-12-19\n",
       "95   1610       Dock   James Healy   Released 2018-12-07\n",
       "96   1328  Warehouse   James Healy  On Status 2018-12-09\n",
       "97   1465  Warehouse   Emily Walsh   Released 2018-12-16\n",
       "98   1250    Shipped   Emily Walsh   Released 2018-12-18\n",
       "99   1581       Dock    John Jones   Released 2018-12-09\n",
       "\n",
       "[100 rows x 5 columns]"
      ]
     },
     "execution_count": 26,
     "metadata": {},
     "output_type": "execute_result"
    }
   ],
   "source": [
    "df = pd.DataFrame(data) # Define dataframe \n",
    "df # Output dataframe"
   ]
  },
  {
   "cell_type": "markdown",
   "metadata": {},
   "source": [
    "## Descriptive Statistics"
   ]
  },
  {
   "cell_type": "code",
   "execution_count": 27,
   "metadata": {},
   "outputs": [
    {
     "data": {
      "text/html": [
       "<div>\n",
       "<style>\n",
       "    .dataframe thead tr:only-child th {\n",
       "        text-align: right;\n",
       "    }\n",
       "\n",
       "    .dataframe thead th {\n",
       "        text-align: left;\n",
       "    }\n",
       "\n",
       "    .dataframe tbody tr th {\n",
       "        vertical-align: top;\n",
       "    }\n",
       "</style>\n",
       "<table border=\"1\" class=\"dataframe\">\n",
       "  <thead>\n",
       "    <tr style=\"text-align: right;\">\n",
       "      <th></th>\n",
       "      <th>Batch</th>\n",
       "    </tr>\n",
       "  </thead>\n",
       "  <tbody>\n",
       "    <tr>\n",
       "      <th>count</th>\n",
       "      <td>100.000000</td>\n",
       "    </tr>\n",
       "    <tr>\n",
       "      <th>mean</th>\n",
       "      <td>1427.130000</td>\n",
       "    </tr>\n",
       "    <tr>\n",
       "      <th>std</th>\n",
       "      <td>297.704676</td>\n",
       "    </tr>\n",
       "    <tr>\n",
       "      <th>min</th>\n",
       "      <td>1001.000000</td>\n",
       "    </tr>\n",
       "    <tr>\n",
       "      <th>25%</th>\n",
       "      <td>1161.250000</td>\n",
       "    </tr>\n",
       "    <tr>\n",
       "      <th>50%</th>\n",
       "      <td>1343.500000</td>\n",
       "    </tr>\n",
       "    <tr>\n",
       "      <th>75%</th>\n",
       "      <td>1715.250000</td>\n",
       "    </tr>\n",
       "    <tr>\n",
       "      <th>max</th>\n",
       "      <td>1989.000000</td>\n",
       "    </tr>\n",
       "  </tbody>\n",
       "</table>\n",
       "</div>"
      ],
      "text/plain": [
       "             Batch\n",
       "count   100.000000\n",
       "mean   1427.130000\n",
       "std     297.704676\n",
       "min    1001.000000\n",
       "25%    1161.250000\n",
       "50%    1343.500000\n",
       "75%    1715.250000\n",
       "max    1989.000000"
      ]
     },
     "execution_count": 27,
     "metadata": {},
     "output_type": "execute_result"
    }
   ],
   "source": [
    "df.describe() # Output descriptive statistics from the dataframe based on Batch number"
   ]
  },
  {
   "cell_type": "markdown",
   "metadata": {},
   "source": [
    "## Analysis of Data per Person Responsible\n",
    "\n",
    "Review batches based on the status of batches by each person responsible.\n",
    "\n",
    "This is an indication of the workload assigned to each person.\n",
    "\n",
    "It is also an indication of which person is dealing with most issues resulting in batches 'on hold' status."
   ]
  },
  {
   "cell_type": "markdown",
   "metadata": {},
   "source": [
    "The histogram below shows the actual breakdown per number of batches assigned to each employee in the data set. Although the probaility of workload distribution is equal for each employee, the actual distribution shows variation."
   ]
  },
  {
   "cell_type": "code",
   "execution_count": 33,
   "metadata": {},
   "outputs": [
    {
     "data": {
      "image/png": "[encoded data removed]",
      "text/plain": [
       "<matplotlib.figure.Figure at 0x1cf829292e8>"
      ]
     },
     "metadata": {},
     "output_type": "display_data"
    }
   ],
   "source": [
    "plt.hist(Responsibles)\n",
    "plt.show()"
   ]
  },
  {
   "cell_type": "code",
   "execution_count": 28,
   "metadata": {
    "collapsed": true
   },
   "outputs": [],
   "source": [
    "Person = df[['Responsible', 'Status']] # Subcategory of the dataframe with person responsible and status of batches assigned to them"
   ]
  },
  {
   "cell_type": "code",
   "execution_count": 31,
   "metadata": {},
   "outputs": [
    {
     "data": {
      "text/html": [
       "<div>\n",
       "<style>\n",
       "    .dataframe thead tr:only-child th {\n",
       "        text-align: right;\n",
       "    }\n",
       "\n",
       "    .dataframe thead th {\n",
       "        text-align: left;\n",
       "    }\n",
       "\n",
       "    .dataframe tbody tr th {\n",
       "        vertical-align: top;\n",
       "    }\n",
       "</style>\n",
       "<table border=\"1\" class=\"dataframe\">\n",
       "  <thead>\n",
       "    <tr style=\"text-align: right;\">\n",
       "      <th></th>\n",
       "      <th>Responsible</th>\n",
       "      <th>Status</th>\n",
       "    </tr>\n",
       "  </thead>\n",
       "  <tbody>\n",
       "    <tr>\n",
       "      <th>0</th>\n",
       "      <td>Mary O'Toole</td>\n",
       "      <td>On Hold</td>\n",
       "    </tr>\n",
       "    <tr>\n",
       "      <th>1</th>\n",
       "      <td>Emily Walsh</td>\n",
       "      <td>On Hold</td>\n",
       "    </tr>\n",
       "    <tr>\n",
       "      <th>2</th>\n",
       "      <td>John Jones</td>\n",
       "      <td>On Status</td>\n",
       "    </tr>\n",
       "    <tr>\n",
       "      <th>3</th>\n",
       "      <td>David Murphy</td>\n",
       "      <td>Released</td>\n",
       "    </tr>\n",
       "    <tr>\n",
       "      <th>4</th>\n",
       "      <td>Emily Walsh</td>\n",
       "      <td>On Status</td>\n",
       "    </tr>\n",
       "  </tbody>\n",
       "</table>\n",
       "</div>"
      ],
      "text/plain": [
       "    Responsible     Status\n",
       "0  Mary O'Toole    On Hold\n",
       "1   Emily Walsh    On Hold\n",
       "2    John Jones  On Status\n",
       "3  David Murphy   Released\n",
       "4   Emily Walsh  On Status"
      ]
     },
     "execution_count": 31,
     "metadata": {},
     "output_type": "execute_result"
    }
   ],
   "source": [
    "Person.head() # Display the first 5 headings of the sub dataframe"
   ]
  },
  {
   "cell_type": "markdown",
   "metadata": {},
   "source": [
    "Breakdown per person of the status of batches they are responsible for, can be used as an indicator of progressing workload through the system. The aim is to have all batches at released status for customer use."
   ]
  },
  {
   "cell_type": "code",
   "execution_count": 35,
   "metadata": {},
   "outputs": [
    {
     "data": {
      "text/plain": [
       "Responsible   Status   \n",
       "David Murphy  On Hold       1\n",
       "              On Status     4\n",
       "              Released     14\n",
       "Emily Walsh   On Hold       1\n",
       "              On Status    12\n",
       "              Released      9\n",
       "James Healy   On Hold       2\n",
       "              On Status     9\n",
       "              Released     15\n",
       "John Jones    On Hold       5\n",
       "              On Status     4\n",
       "              Released     10\n",
       "Mary O'Toole  On Hold       3\n",
       "              On Status     4\n",
       "              Released      7\n",
       "dtype: int64"
      ]
     },
     "execution_count": 35,
     "metadata": {},
     "output_type": "execute_result"
    }
   ],
   "source": [
    "df.groupby(['Responsible','Status']).size() # Group the batches by 'Status' per person 'Responsible' "
   ]
  },
  {
   "cell_type": "markdown",
   "metadata": {},
   "source": [
    "Visual representation of the above information shown below in stacked bar chart, showing the breakdown of status of all batches assigned to people responsible."
   ]
  },
  {
   "cell_type": "code",
   "execution_count": 40,
   "metadata": {},
   "outputs": [
    {
     "data": {
      "text/plain": [
       "<matplotlib.axes._subplots.AxesSubplot at 0x1cf8307bda0>"
      ]
     },
     "execution_count": 40,
     "metadata": {},
     "output_type": "execute_result"
    },
    {
     "data": {
      "image/png": "[encoded data removed]",
      "text/plain": [
       "<matplotlib.figure.Figure at 0x1cf82fa78d0>"
      ]
     },
     "metadata": {},
     "output_type": "display_data"
    }
   ],
   "source": [
    "df.groupby(['Responsible', 'Status']).size().unstack().plot(kind='bar', stacked=True)"
   ]
  },
  {
   "cell_type": "markdown",
   "metadata": {},
   "source": [
    "The data indicates that James Healy has the highest work load with the most batches of the group. \n",
    "James Healy also has most number of batches at 'On Hold' status highlighting issues holding 5 batches from his group from release to the customer."
   ]
  },
  {
   "cell_type": "markdown",
   "metadata": {},
   "source": [
    "Pairplot showing batch numbers assigned per person responsible, colour coded per person."
   ]
  },
  {
   "cell_type": "code",
   "execution_count": 39,
   "metadata": {},
   "outputs": [
    {
     "data": {
      "text/plain": [
       "<seaborn.axisgrid.PairGrid at 0x1cf82fa7e10>"
      ]
     },
     "execution_count": 39,
     "metadata": {},
     "output_type": "execute_result"
    },
    {
     "data": {
      "image/png": "[encoded data removed]",
      "text/plain": [
       "<matplotlib.figure.Figure at 0x1cf82fa71d0>"
      ]
     },
     "metadata": {},
     "output_type": "display_data"
    }
   ],
   "source": [
    "sns.pairplot(df, hue=\"Responsible\") # Seaborn pairplot for those responsible"
   ]
  },
  {
   "cell_type": "markdown",
   "metadata": {},
   "source": [
    "Highest level of batch numbers in the 1100 to 1200 range."
   ]
  },
  {
   "cell_type": "markdown",
   "metadata": {},
   "source": [
    "Visual represenation of target dates set to responsible individuals per person displayed on a dot plot. "
   ]
  },
  {
   "cell_type": "code",
   "execution_count": 16,
   "metadata": {},
   "outputs": [
    {
     "data": {
      "image/png": "[encoded data removed]",
      "text/plain": [
       "<matplotlib.figure.Figure at 0x1cf827aacf8>"
      ]
     },
     "metadata": {},
     "output_type": "display_data"
    }
   ],
   "source": [
    "plt.plot([Targets], [Responsibles], 'bs') # Plot Target dates vs person responsible in blue squares\n",
    "plt.show() # Show plot"
   ]
  },
  {
   "cell_type": "markdown",
   "metadata": {},
   "source": [
    "Plot shows the spread of target date is reasonably standard across individuals."
   ]
  },
  {
   "cell_type": "markdown",
   "metadata": {},
   "source": [
    "** *** **"
   ]
  },
  {
   "cell_type": "markdown",
   "metadata": {
    "collapsed": true
   },
   "source": [
    "## Analysis of Data per Location\n",
    "\n",
    "Review batches based on the physical location of batches. This is a physical indicator of the product and it proximity to the customer.\n",
    "\n",
    "The process is \n",
    "1. Warehouse \n",
    "2. Dock \n",
    "3. Shipped"
   ]
  },
  {
   "cell_type": "markdown",
   "metadata": {},
   "source": [
    "Histogram below is a visual representation of the breakdown of locations of batches."
   ]
  },
  {
   "cell_type": "code",
   "execution_count": 47,
   "metadata": {},
   "outputs": [
    {
     "data": {
      "image/png": "[encoded data removed]",
      "text/plain": [
       "<matplotlib.figure.Figure at 0x1cf82ac31d0>"
      ]
     },
     "metadata": {},
     "output_type": "display_data"
    }
   ],
   "source": [
    "plt.hist(Locations) # Display histogram of dataframe column 'Locations'\n",
    "plt.show() # Show plot "
   ]
  },
  {
   "cell_type": "markdown",
   "metadata": {},
   "source": [
    "Breakdown of location by status of batches at physical locations. This shows what status batches are at in the different physical locations."
   ]
  },
  {
   "cell_type": "code",
   "execution_count": 46,
   "metadata": {},
   "outputs": [
    {
     "data": {
      "text/plain": [
       "Location   Status   \n",
       "Dock       On Hold       5\n",
       "           On Status    11\n",
       "           Released     26\n",
       "Shipped    On Hold       2\n",
       "           On Status     5\n",
       "           Released     14\n",
       "Warehouse  On Hold       5\n",
       "           On Status    17\n",
       "           Released     15\n",
       "dtype: int64"
      ]
     },
     "execution_count": 46,
     "metadata": {},
     "output_type": "execute_result"
    }
   ],
   "source": [
    "df.groupby(['Location','Status']).size() # Breakdown the dataframe by grouping Location and Status"
   ]
  },
  {
   "cell_type": "markdown",
   "metadata": {},
   "source": [
    "The 'Dock' has the highest number of batches compared to 'Warehouse' or 'Shipped'. Of those in the dock location, 5 are on hold, 11 are on status and 26 are released."
   ]
  },
  {
   "cell_type": "markdown",
   "metadata": {},
   "source": [
    "The following is a breakdown of 'Locations' in a stacked bar chart per person responsible for batches. The person is responsible for ensuring each batch moves through the process to ensure customer target dates are met."
   ]
  },
  {
   "cell_type": "code",
   "execution_count": 48,
   "metadata": {},
   "outputs": [
    {
     "data": {
      "text/plain": [
       "<matplotlib.axes._subplots.AxesSubplot at 0x1cf82ae6f98>"
      ]
     },
     "execution_count": 48,
     "metadata": {},
     "output_type": "execute_result"
    },
    {
     "data": {
      "image/png": "[encoded data removed]",
      "text/plain": [
       "<matplotlib.figure.Figure at 0x1cf82c6ebe0>"
      ]
     },
     "metadata": {},
     "output_type": "display_data"
    }
   ],
   "source": [
    "df.groupby(['Responsible', 'Location']).size().unstack().plot(kind='bar', stacked=True)"
   ]
  },
  {
   "cell_type": "markdown",
   "metadata": {},
   "source": [
    "The stacked bar chart highlights a number of batches in the warehouse and in the dock. Each person is responsible for getting each batch shipped to the customer."
   ]
  },
  {
   "cell_type": "code",
   "execution_count": 49,
   "metadata": {},
   "outputs": [
    {
     "data": {
      "text/plain": [
       "<seaborn.axisgrid.PairGrid at 0x1cf82cc42e8>"
      ]
     },
     "execution_count": 49,
     "metadata": {},
     "output_type": "execute_result"
    },
    {
     "data": {
      "image/png": "[encoded data removed]",
      "text/plain": [
       "<matplotlib.figure.Figure at 0x1cf82cc4ac8>"
      ]
     },
     "metadata": {},
     "output_type": "display_data"
    }
   ],
   "source": [
    "sns.pairplot(df, hue=\"Location\") # Pairplot by the location of batches"
   ]
  },
  {
   "cell_type": "markdown",
   "metadata": {},
   "source": [
    "** *** **"
   ]
  },
  {
   "cell_type": "markdown",
   "metadata": {},
   "source": [
    "## Analysis of Data per Batch Status"
   ]
  },
  {
   "cell_type": "code",
   "execution_count": 22,
   "metadata": {},
   "outputs": [
    {
     "data": {
      "image/png": "[encoded data removed]",
      "text/plain": [
       "<matplotlib.figure.Figure at 0x1cf82bde710>"
      ]
     },
     "metadata": {},
     "output_type": "display_data"
    }
   ],
   "source": [
    "plt.hist(Statuss)\n",
    "plt.show()"
   ]
  },
  {
   "cell_type": "code",
   "execution_count": 23,
   "metadata": {},
   "outputs": [
    {
     "data": {
      "text/plain": [
       "<matplotlib.axes._subplots.AxesSubplot at 0x1cf82ca97b8>"
      ]
     },
     "execution_count": 23,
     "metadata": {},
     "output_type": "execute_result"
    },
    {
     "data": {
      "image/png": "[encoded data removed]",
      "text/plain": [
       "<matplotlib.figure.Figure at 0x1cf82c6eb38>"
      ]
     },
     "metadata": {},
     "output_type": "display_data"
    }
   ],
   "source": [
    "df.groupby(['Location', 'Status']).size().unstack().plot(kind='bar', stacked=True)"
   ]
  },
  {
   "cell_type": "code",
   "execution_count": 24,
   "metadata": {},
   "outputs": [
    {
     "data": {
      "text/plain": [
       "<seaborn.axisgrid.PairGrid at 0x1cf82cbebe0>"
      ]
     },
     "execution_count": 24,
     "metadata": {},
     "output_type": "execute_result"
    },
    {
     "data": {
      "image/png": "[encoded data removed]",
      "text/plain": [
       "<matplotlib.figure.Figure at 0x1cf82cbe588>"
      ]
     },
     "metadata": {},
     "output_type": "display_data"
    }
   ],
   "source": [
    "sns.pairplot(df, hue=\"Status\")"
   ]
  },
  {
   "cell_type": "markdown",
   "metadata": {},
   "source": [
    "## Analysis of Data by Target Date"
   ]
  },
  {
   "cell_type": "code",
   "execution_count": 25,
   "metadata": {},
   "outputs": [
    {
     "data": {
      "image/png": "[encoded data removed]",
      "text/plain": [
       "<matplotlib.figure.Figure at 0x1cf82dab320>"
      ]
     },
     "metadata": {},
     "output_type": "display_data"
    }
   ],
   "source": [
    "plt.plot([Targets], [Batch], 'ro')\n",
    "plt.show()"
   ]
  },
  {
   "cell_type": "code",
   "execution_count": null,
   "metadata": {
    "collapsed": true
   },
   "outputs": [],
   "source": []
  },
  {
   "cell_type": "markdown",
   "metadata": {},
   "source": [
    "## References\n",
    "https://pandas.pydata.org/pandas-docs/stable/generated/pandas.date_range.html\n",
    "https://docs.scipy.org/doc/numpy/reference/generated/numpy.random.choice.html\n",
    "https://seaborn.pydata.org/generated/seaborn.lineplot.html\n",
    "https://stackoverflow.com/questions/23415500/pandas-plotting-a-stacked-bar-chart\n",
    "https://pandas.pydata.org/pandas-docs/stable/generated/pandas.DataFrame.loc.html\n",
    "https://seaborn.pydata.org/examples/scatterplot_categorical.html\n",
    "https://github.com/jupyter/help/issues/68\n",
    "https://pandas.pydata.org/pandas-docs/stable/generated/pandas.DataFrame.groupby.html\n",
    "https://medium.com/ibm-data-science-experience/markdown-for-jupyter-notebooks-cheatsheet-386c05aeebed\n",
    "\n"
   ]
  }
 ],
 "metadata": {
  "kernelspec": {
   "display_name": "Python 3",
   "language": "python",
   "name": "python3"
  },
  "language_info": {
   "codemirror_mode": {
    "name": "ipython",
    "version": 3
   },
   "file_extension": ".py",
   "mimetype": "text/x-python",
   "name": "python",
   "nbconvert_exporter": "python",
   "pygments_lexer": "ipython3",
   "version": "3.6.3"
  }
 },
 "nbformat": 4,
 "nbformat_minor": 2
}
