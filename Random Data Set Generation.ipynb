{
 "cells": [
  {
   "cell_type": "markdown",
   "metadata": {},
   "source": [
    "# Generation of a random data set\n",
    "\n",
    "![Numpy](https://cdn-images-1.medium.com/max/1200/1*L0yNfRdiH8DfYuiJTKPxww.png)\n",
    "\n",
    "The following is a dataset synthesised using Python. It is a randomly generated simulation of data based on real life phenomenon. The basis of the data set is manufacturing data containing a manufatured batch number with corresponding location, name of person responsible for ensuring targets are met, the current status of the manufatured batch and a target customer delivery date.  \n",
    "\n",
    "One hundred random **batch** numbers have been generated. The **status** of the batches fall into 3 different categories: on hold, on status and released. Each status has a different probability level: on hold (0.15), on status (0.35) and released (0.5). The probability is based on the maufacturing process being less likely to have an issue on a manufactured batch resulting in a batch being placed 'on hold'. 'On status' is an interim dispostion of a manufactred batch prior to being released but with no known issue. \n",
    "\n",
    "The current **location** of each batch is defined as per: Warehouse, Dock or Shipped. Each location is as likely as the others to be chosen as the manufactured batches move through the process.  \n",
    "\n",
    "The **target** date is the date expected for each batch to be delivered to the customer.\n",
    "\n",
    "The employee **responsible** for meeting the target of each batch is outlined. The probability of each employee is the evenly distributed (5 employees with 0.2 probability) to be assigned responsibility for meeting the target date. \n"
   ]
  },
  {
   "cell_type": "code",
   "execution_count": 1,
   "metadata": {},
   "outputs": [],
   "source": [
    "import numpy as np # Numerical Python\n",
    "import pandas as pd # Pandas for data visualisation\n",
    "import matplotlib.pyplot as plt  # shorthand import for matplotlib library\n",
    "import seaborn as sns # import seaborn for advanced graphics\n",
    "%matplotlib inline "
   ]
  },
  {
   "cell_type": "code",
   "execution_count": 2,
   "metadata": {},
   "outputs": [
    {
     "data": {
      "text/plain": [
       "array([1192, 1825, 1652, 1297, 1933, 1861, 1406, 1120, 1225, 1815, 1234,\n",
       "       1274, 1239, 1764, 1729, 1825, 1554, 1592, 1718, 1707, 1143, 1885,\n",
       "       1936, 1688, 1516, 1242, 1226, 1991, 1198, 1678, 1286, 1081, 1260,\n",
       "       1894, 1752, 1491, 1592, 1041, 1975, 1343, 1172, 1471, 1983, 1570,\n",
       "       1259, 1583, 1230, 1277, 1183, 1529, 1705, 1125, 1070, 1791, 1593,\n",
       "       1579, 1785, 1609, 1799, 1302, 1501, 1553, 1604, 1577, 1055, 1738,\n",
       "       1881, 1806, 1679, 1052, 1364, 1411, 1623, 1530, 1367, 1202, 1801,\n",
       "       1007, 1157, 1558, 1323, 1299, 1881, 1159, 1883, 1537, 1799, 1216,\n",
       "       1531, 1901, 1137, 1318, 1394, 1339, 1910, 1494, 1061, 1399, 1225,\n",
       "       1555])"
      ]
     },
     "execution_count": 2,
     "metadata": {},
     "output_type": "execute_result"
    }
   ],
   "source": [
    "Batch = np.random.randint(1000, 2000, size=100) # Use Numpy to generate random intergers \n",
    "Batch # Display output of 100 random intergers between 1000 and 2000 to use as Batch Numbers"
   ]
  },
  {
   "cell_type": "code",
   "execution_count": 3,
   "metadata": {
    "collapsed": true
   },
   "outputs": [],
   "source": [
    "Target = pd.date_range(start='12/01/2018', periods=31) # Use Pandas to generate dates over 31 periods\n",
    "Targets = np.random.choice(Target, 100) # Use Numpy to generate 100 random dates based on 'Target'"
   ]
  },
  {
   "cell_type": "code",
   "execution_count": 4,
   "metadata": {
    "collapsed": true
   },
   "outputs": [],
   "source": [
    "Status = [\"On Hold\", \"On Status\", \"Released\"] # Specify 3 categories that can be for 'Status'\n",
    "Statuss = np.random.choice(Status, 100, p=[0.15, 0.35, 0.50]) # Use Numpy to generate 100 random outputs based on 'Status' with probability specified per category"
   ]
  },
  {
   "cell_type": "code",
   "execution_count": 5,
   "metadata": {
    "collapsed": true
   },
   "outputs": [],
   "source": [
    "Location = [\"Shipped\", \"Dock\", \"Warehouse\"] # Specify 3 categories that can be for 'Location'\n",
    "Locations = np.random.choice(Location, 100, p=[0.34, 0.33, 0.33]) # Use Numpy to generate 100 random outputs based on 'Status' with probability specified per category"
   ]
  },
  {
   "cell_type": "code",
   "execution_count": 6,
   "metadata": {
    "collapsed": true
   },
   "outputs": [],
   "source": [
    "Responsible = [\"John Jones\", \"Mary O'Toole\", \"David Murphy\", \"Emily Walsh\",\"James Healy\"] # Specify 5 people in the category\n",
    "Responsibles = np.random.choice(Responsible, 100,  p=[0.2, 0.2, 0.2, 0.2, 0.2]) # Use Numpy to generate 100 random outputs based on 'Status' with probability specified per category"
   ]
  },
  {
   "cell_type": "code",
   "execution_count": 7,
   "metadata": {
    "collapsed": true
   },
   "outputs": [],
   "source": [
    "data = {'Batch':Batch,'Target':Targets,'Status':Statuss,'Location':Locations,'Responsible':Responsibles} # Identify Column Headings for dataframe"
   ]
  },
  {
   "cell_type": "code",
   "execution_count": 8,
   "metadata": {},
   "outputs": [
    {
     "data": {
      "text/html": [
       "<div>\n",
       "<style>\n",
       "    .dataframe thead tr:only-child th {\n",
       "        text-align: right;\n",
       "    }\n",
       "\n",
       "    .dataframe thead th {\n",
       "        text-align: left;\n",
       "    }\n",
       "\n",
       "    .dataframe tbody tr th {\n",
       "        vertical-align: top;\n",
       "    }\n",
       "</style>\n",
       "<table border=\"1\" class=\"dataframe\">\n",
       "  <thead>\n",
       "    <tr style=\"text-align: right;\">\n",
       "      <th></th>\n",
       "      <th>Batch</th>\n",
       "      <th>Location</th>\n",
       "      <th>Responsible</th>\n",
       "      <th>Status</th>\n",
       "      <th>Target</th>\n",
       "    </tr>\n",
       "  </thead>\n",
       "  <tbody>\n",
       "    <tr>\n",
       "      <th>0</th>\n",
       "      <td>1192</td>\n",
       "      <td>Dock</td>\n",
       "      <td>David Murphy</td>\n",
       "      <td>Released</td>\n",
       "      <td>2018-12-04</td>\n",
       "    </tr>\n",
       "    <tr>\n",
       "      <th>1</th>\n",
       "      <td>1825</td>\n",
       "      <td>Shipped</td>\n",
       "      <td>David Murphy</td>\n",
       "      <td>Released</td>\n",
       "      <td>2018-12-19</td>\n",
       "    </tr>\n",
       "    <tr>\n",
       "      <th>2</th>\n",
       "      <td>1652</td>\n",
       "      <td>Warehouse</td>\n",
       "      <td>John Jones</td>\n",
       "      <td>Released</td>\n",
       "      <td>2018-12-07</td>\n",
       "    </tr>\n",
       "    <tr>\n",
       "      <th>3</th>\n",
       "      <td>1297</td>\n",
       "      <td>Warehouse</td>\n",
       "      <td>Mary O'Toole</td>\n",
       "      <td>Released</td>\n",
       "      <td>2018-12-30</td>\n",
       "    </tr>\n",
       "    <tr>\n",
       "      <th>4</th>\n",
       "      <td>1933</td>\n",
       "      <td>Warehouse</td>\n",
       "      <td>John Jones</td>\n",
       "      <td>Released</td>\n",
       "      <td>2018-12-24</td>\n",
       "    </tr>\n",
       "    <tr>\n",
       "      <th>5</th>\n",
       "      <td>1861</td>\n",
       "      <td>Dock</td>\n",
       "      <td>John Jones</td>\n",
       "      <td>On Status</td>\n",
       "      <td>2018-12-22</td>\n",
       "    </tr>\n",
       "    <tr>\n",
       "      <th>6</th>\n",
       "      <td>1406</td>\n",
       "      <td>Dock</td>\n",
       "      <td>James Healy</td>\n",
       "      <td>On Hold</td>\n",
       "      <td>2018-12-30</td>\n",
       "    </tr>\n",
       "    <tr>\n",
       "      <th>7</th>\n",
       "      <td>1120</td>\n",
       "      <td>Shipped</td>\n",
       "      <td>James Healy</td>\n",
       "      <td>On Status</td>\n",
       "      <td>2018-12-26</td>\n",
       "    </tr>\n",
       "    <tr>\n",
       "      <th>8</th>\n",
       "      <td>1225</td>\n",
       "      <td>Warehouse</td>\n",
       "      <td>John Jones</td>\n",
       "      <td>On Status</td>\n",
       "      <td>2018-12-02</td>\n",
       "    </tr>\n",
       "    <tr>\n",
       "      <th>9</th>\n",
       "      <td>1815</td>\n",
       "      <td>Warehouse</td>\n",
       "      <td>Emily Walsh</td>\n",
       "      <td>On Status</td>\n",
       "      <td>2018-12-20</td>\n",
       "    </tr>\n",
       "    <tr>\n",
       "      <th>10</th>\n",
       "      <td>1234</td>\n",
       "      <td>Warehouse</td>\n",
       "      <td>John Jones</td>\n",
       "      <td>On Hold</td>\n",
       "      <td>2018-12-05</td>\n",
       "    </tr>\n",
       "    <tr>\n",
       "      <th>11</th>\n",
       "      <td>1274</td>\n",
       "      <td>Dock</td>\n",
       "      <td>David Murphy</td>\n",
       "      <td>On Hold</td>\n",
       "      <td>2018-12-26</td>\n",
       "    </tr>\n",
       "    <tr>\n",
       "      <th>12</th>\n",
       "      <td>1239</td>\n",
       "      <td>Dock</td>\n",
       "      <td>John Jones</td>\n",
       "      <td>On Status</td>\n",
       "      <td>2018-12-28</td>\n",
       "    </tr>\n",
       "    <tr>\n",
       "      <th>13</th>\n",
       "      <td>1764</td>\n",
       "      <td>Shipped</td>\n",
       "      <td>James Healy</td>\n",
       "      <td>Released</td>\n",
       "      <td>2018-12-20</td>\n",
       "    </tr>\n",
       "    <tr>\n",
       "      <th>14</th>\n",
       "      <td>1729</td>\n",
       "      <td>Dock</td>\n",
       "      <td>David Murphy</td>\n",
       "      <td>On Status</td>\n",
       "      <td>2018-12-19</td>\n",
       "    </tr>\n",
       "    <tr>\n",
       "      <th>15</th>\n",
       "      <td>1825</td>\n",
       "      <td>Warehouse</td>\n",
       "      <td>Emily Walsh</td>\n",
       "      <td>Released</td>\n",
       "      <td>2018-12-24</td>\n",
       "    </tr>\n",
       "    <tr>\n",
       "      <th>16</th>\n",
       "      <td>1554</td>\n",
       "      <td>Dock</td>\n",
       "      <td>Mary O'Toole</td>\n",
       "      <td>On Hold</td>\n",
       "      <td>2018-12-20</td>\n",
       "    </tr>\n",
       "    <tr>\n",
       "      <th>17</th>\n",
       "      <td>1592</td>\n",
       "      <td>Warehouse</td>\n",
       "      <td>John Jones</td>\n",
       "      <td>On Status</td>\n",
       "      <td>2018-12-20</td>\n",
       "    </tr>\n",
       "    <tr>\n",
       "      <th>18</th>\n",
       "      <td>1718</td>\n",
       "      <td>Warehouse</td>\n",
       "      <td>James Healy</td>\n",
       "      <td>On Hold</td>\n",
       "      <td>2018-12-08</td>\n",
       "    </tr>\n",
       "    <tr>\n",
       "      <th>19</th>\n",
       "      <td>1707</td>\n",
       "      <td>Dock</td>\n",
       "      <td>Emily Walsh</td>\n",
       "      <td>On Status</td>\n",
       "      <td>2018-12-12</td>\n",
       "    </tr>\n",
       "    <tr>\n",
       "      <th>20</th>\n",
       "      <td>1143</td>\n",
       "      <td>Dock</td>\n",
       "      <td>James Healy</td>\n",
       "      <td>Released</td>\n",
       "      <td>2018-12-01</td>\n",
       "    </tr>\n",
       "    <tr>\n",
       "      <th>21</th>\n",
       "      <td>1885</td>\n",
       "      <td>Dock</td>\n",
       "      <td>David Murphy</td>\n",
       "      <td>Released</td>\n",
       "      <td>2018-12-03</td>\n",
       "    </tr>\n",
       "    <tr>\n",
       "      <th>22</th>\n",
       "      <td>1936</td>\n",
       "      <td>Dock</td>\n",
       "      <td>Emily Walsh</td>\n",
       "      <td>On Status</td>\n",
       "      <td>2018-12-25</td>\n",
       "    </tr>\n",
       "    <tr>\n",
       "      <th>23</th>\n",
       "      <td>1688</td>\n",
       "      <td>Shipped</td>\n",
       "      <td>David Murphy</td>\n",
       "      <td>Released</td>\n",
       "      <td>2018-12-24</td>\n",
       "    </tr>\n",
       "    <tr>\n",
       "      <th>24</th>\n",
       "      <td>1516</td>\n",
       "      <td>Dock</td>\n",
       "      <td>John Jones</td>\n",
       "      <td>On Status</td>\n",
       "      <td>2018-12-14</td>\n",
       "    </tr>\n",
       "    <tr>\n",
       "      <th>25</th>\n",
       "      <td>1242</td>\n",
       "      <td>Dock</td>\n",
       "      <td>James Healy</td>\n",
       "      <td>Released</td>\n",
       "      <td>2018-12-15</td>\n",
       "    </tr>\n",
       "    <tr>\n",
       "      <th>26</th>\n",
       "      <td>1226</td>\n",
       "      <td>Warehouse</td>\n",
       "      <td>James Healy</td>\n",
       "      <td>Released</td>\n",
       "      <td>2018-12-11</td>\n",
       "    </tr>\n",
       "    <tr>\n",
       "      <th>27</th>\n",
       "      <td>1991</td>\n",
       "      <td>Warehouse</td>\n",
       "      <td>James Healy</td>\n",
       "      <td>Released</td>\n",
       "      <td>2018-12-11</td>\n",
       "    </tr>\n",
       "    <tr>\n",
       "      <th>28</th>\n",
       "      <td>1198</td>\n",
       "      <td>Dock</td>\n",
       "      <td>David Murphy</td>\n",
       "      <td>Released</td>\n",
       "      <td>2018-12-17</td>\n",
       "    </tr>\n",
       "    <tr>\n",
       "      <th>29</th>\n",
       "      <td>1678</td>\n",
       "      <td>Warehouse</td>\n",
       "      <td>James Healy</td>\n",
       "      <td>Released</td>\n",
       "      <td>2018-12-26</td>\n",
       "    </tr>\n",
       "    <tr>\n",
       "      <th>...</th>\n",
       "      <td>...</td>\n",
       "      <td>...</td>\n",
       "      <td>...</td>\n",
       "      <td>...</td>\n",
       "      <td>...</td>\n",
       "    </tr>\n",
       "    <tr>\n",
       "      <th>70</th>\n",
       "      <td>1364</td>\n",
       "      <td>Dock</td>\n",
       "      <td>John Jones</td>\n",
       "      <td>On Status</td>\n",
       "      <td>2018-12-31</td>\n",
       "    </tr>\n",
       "    <tr>\n",
       "      <th>71</th>\n",
       "      <td>1411</td>\n",
       "      <td>Dock</td>\n",
       "      <td>James Healy</td>\n",
       "      <td>On Hold</td>\n",
       "      <td>2018-12-14</td>\n",
       "    </tr>\n",
       "    <tr>\n",
       "      <th>72</th>\n",
       "      <td>1623</td>\n",
       "      <td>Shipped</td>\n",
       "      <td>David Murphy</td>\n",
       "      <td>Released</td>\n",
       "      <td>2018-12-13</td>\n",
       "    </tr>\n",
       "    <tr>\n",
       "      <th>73</th>\n",
       "      <td>1530</td>\n",
       "      <td>Dock</td>\n",
       "      <td>James Healy</td>\n",
       "      <td>Released</td>\n",
       "      <td>2018-12-24</td>\n",
       "    </tr>\n",
       "    <tr>\n",
       "      <th>74</th>\n",
       "      <td>1367</td>\n",
       "      <td>Shipped</td>\n",
       "      <td>John Jones</td>\n",
       "      <td>Released</td>\n",
       "      <td>2018-12-20</td>\n",
       "    </tr>\n",
       "    <tr>\n",
       "      <th>75</th>\n",
       "      <td>1202</td>\n",
       "      <td>Shipped</td>\n",
       "      <td>David Murphy</td>\n",
       "      <td>On Status</td>\n",
       "      <td>2018-12-01</td>\n",
       "    </tr>\n",
       "    <tr>\n",
       "      <th>76</th>\n",
       "      <td>1801</td>\n",
       "      <td>Dock</td>\n",
       "      <td>James Healy</td>\n",
       "      <td>Released</td>\n",
       "      <td>2018-12-11</td>\n",
       "    </tr>\n",
       "    <tr>\n",
       "      <th>77</th>\n",
       "      <td>1007</td>\n",
       "      <td>Dock</td>\n",
       "      <td>John Jones</td>\n",
       "      <td>On Status</td>\n",
       "      <td>2018-12-24</td>\n",
       "    </tr>\n",
       "    <tr>\n",
       "      <th>78</th>\n",
       "      <td>1157</td>\n",
       "      <td>Dock</td>\n",
       "      <td>James Healy</td>\n",
       "      <td>Released</td>\n",
       "      <td>2018-12-15</td>\n",
       "    </tr>\n",
       "    <tr>\n",
       "      <th>79</th>\n",
       "      <td>1558</td>\n",
       "      <td>Dock</td>\n",
       "      <td>David Murphy</td>\n",
       "      <td>Released</td>\n",
       "      <td>2018-12-07</td>\n",
       "    </tr>\n",
       "    <tr>\n",
       "      <th>80</th>\n",
       "      <td>1323</td>\n",
       "      <td>Dock</td>\n",
       "      <td>James Healy</td>\n",
       "      <td>On Status</td>\n",
       "      <td>2018-12-03</td>\n",
       "    </tr>\n",
       "    <tr>\n",
       "      <th>81</th>\n",
       "      <td>1299</td>\n",
       "      <td>Warehouse</td>\n",
       "      <td>John Jones</td>\n",
       "      <td>Released</td>\n",
       "      <td>2018-12-26</td>\n",
       "    </tr>\n",
       "    <tr>\n",
       "      <th>82</th>\n",
       "      <td>1881</td>\n",
       "      <td>Warehouse</td>\n",
       "      <td>Mary O'Toole</td>\n",
       "      <td>Released</td>\n",
       "      <td>2018-12-31</td>\n",
       "    </tr>\n",
       "    <tr>\n",
       "      <th>83</th>\n",
       "      <td>1159</td>\n",
       "      <td>Dock</td>\n",
       "      <td>David Murphy</td>\n",
       "      <td>On Hold</td>\n",
       "      <td>2018-12-18</td>\n",
       "    </tr>\n",
       "    <tr>\n",
       "      <th>84</th>\n",
       "      <td>1883</td>\n",
       "      <td>Dock</td>\n",
       "      <td>Emily Walsh</td>\n",
       "      <td>On Status</td>\n",
       "      <td>2018-12-16</td>\n",
       "    </tr>\n",
       "    <tr>\n",
       "      <th>85</th>\n",
       "      <td>1537</td>\n",
       "      <td>Shipped</td>\n",
       "      <td>John Jones</td>\n",
       "      <td>Released</td>\n",
       "      <td>2018-12-29</td>\n",
       "    </tr>\n",
       "    <tr>\n",
       "      <th>86</th>\n",
       "      <td>1799</td>\n",
       "      <td>Warehouse</td>\n",
       "      <td>James Healy</td>\n",
       "      <td>Released</td>\n",
       "      <td>2018-12-07</td>\n",
       "    </tr>\n",
       "    <tr>\n",
       "      <th>87</th>\n",
       "      <td>1216</td>\n",
       "      <td>Shipped</td>\n",
       "      <td>David Murphy</td>\n",
       "      <td>Released</td>\n",
       "      <td>2018-12-14</td>\n",
       "    </tr>\n",
       "    <tr>\n",
       "      <th>88</th>\n",
       "      <td>1531</td>\n",
       "      <td>Shipped</td>\n",
       "      <td>Mary O'Toole</td>\n",
       "      <td>On Status</td>\n",
       "      <td>2018-12-15</td>\n",
       "    </tr>\n",
       "    <tr>\n",
       "      <th>89</th>\n",
       "      <td>1901</td>\n",
       "      <td>Shipped</td>\n",
       "      <td>James Healy</td>\n",
       "      <td>Released</td>\n",
       "      <td>2018-12-02</td>\n",
       "    </tr>\n",
       "    <tr>\n",
       "      <th>90</th>\n",
       "      <td>1137</td>\n",
       "      <td>Shipped</td>\n",
       "      <td>John Jones</td>\n",
       "      <td>On Hold</td>\n",
       "      <td>2018-12-11</td>\n",
       "    </tr>\n",
       "    <tr>\n",
       "      <th>91</th>\n",
       "      <td>1318</td>\n",
       "      <td>Warehouse</td>\n",
       "      <td>Mary O'Toole</td>\n",
       "      <td>Released</td>\n",
       "      <td>2018-12-23</td>\n",
       "    </tr>\n",
       "    <tr>\n",
       "      <th>92</th>\n",
       "      <td>1394</td>\n",
       "      <td>Shipped</td>\n",
       "      <td>John Jones</td>\n",
       "      <td>On Hold</td>\n",
       "      <td>2018-12-07</td>\n",
       "    </tr>\n",
       "    <tr>\n",
       "      <th>93</th>\n",
       "      <td>1339</td>\n",
       "      <td>Warehouse</td>\n",
       "      <td>John Jones</td>\n",
       "      <td>Released</td>\n",
       "      <td>2018-12-03</td>\n",
       "    </tr>\n",
       "    <tr>\n",
       "      <th>94</th>\n",
       "      <td>1910</td>\n",
       "      <td>Shipped</td>\n",
       "      <td>David Murphy</td>\n",
       "      <td>On Status</td>\n",
       "      <td>2018-12-24</td>\n",
       "    </tr>\n",
       "    <tr>\n",
       "      <th>95</th>\n",
       "      <td>1494</td>\n",
       "      <td>Warehouse</td>\n",
       "      <td>John Jones</td>\n",
       "      <td>On Hold</td>\n",
       "      <td>2018-12-23</td>\n",
       "    </tr>\n",
       "    <tr>\n",
       "      <th>96</th>\n",
       "      <td>1061</td>\n",
       "      <td>Shipped</td>\n",
       "      <td>James Healy</td>\n",
       "      <td>On Hold</td>\n",
       "      <td>2018-12-05</td>\n",
       "    </tr>\n",
       "    <tr>\n",
       "      <th>97</th>\n",
       "      <td>1399</td>\n",
       "      <td>Warehouse</td>\n",
       "      <td>Emily Walsh</td>\n",
       "      <td>Released</td>\n",
       "      <td>2018-12-17</td>\n",
       "    </tr>\n",
       "    <tr>\n",
       "      <th>98</th>\n",
       "      <td>1225</td>\n",
       "      <td>Warehouse</td>\n",
       "      <td>John Jones</td>\n",
       "      <td>Released</td>\n",
       "      <td>2018-12-19</td>\n",
       "    </tr>\n",
       "    <tr>\n",
       "      <th>99</th>\n",
       "      <td>1555</td>\n",
       "      <td>Dock</td>\n",
       "      <td>David Murphy</td>\n",
       "      <td>Released</td>\n",
       "      <td>2018-12-07</td>\n",
       "    </tr>\n",
       "  </tbody>\n",
       "</table>\n",
       "<p>100 rows × 5 columns</p>\n",
       "</div>"
      ],
      "text/plain": [
       "    Batch   Location   Responsible     Status     Target\n",
       "0    1192       Dock  David Murphy   Released 2018-12-04\n",
       "1    1825    Shipped  David Murphy   Released 2018-12-19\n",
       "2    1652  Warehouse    John Jones   Released 2018-12-07\n",
       "3    1297  Warehouse  Mary O'Toole   Released 2018-12-30\n",
       "4    1933  Warehouse    John Jones   Released 2018-12-24\n",
       "5    1861       Dock    John Jones  On Status 2018-12-22\n",
       "6    1406       Dock   James Healy    On Hold 2018-12-30\n",
       "7    1120    Shipped   James Healy  On Status 2018-12-26\n",
       "8    1225  Warehouse    John Jones  On Status 2018-12-02\n",
       "9    1815  Warehouse   Emily Walsh  On Status 2018-12-20\n",
       "10   1234  Warehouse    John Jones    On Hold 2018-12-05\n",
       "11   1274       Dock  David Murphy    On Hold 2018-12-26\n",
       "12   1239       Dock    John Jones  On Status 2018-12-28\n",
       "13   1764    Shipped   James Healy   Released 2018-12-20\n",
       "14   1729       Dock  David Murphy  On Status 2018-12-19\n",
       "15   1825  Warehouse   Emily Walsh   Released 2018-12-24\n",
       "16   1554       Dock  Mary O'Toole    On Hold 2018-12-20\n",
       "17   1592  Warehouse    John Jones  On Status 2018-12-20\n",
       "18   1718  Warehouse   James Healy    On Hold 2018-12-08\n",
       "19   1707       Dock   Emily Walsh  On Status 2018-12-12\n",
       "20   1143       Dock   James Healy   Released 2018-12-01\n",
       "21   1885       Dock  David Murphy   Released 2018-12-03\n",
       "22   1936       Dock   Emily Walsh  On Status 2018-12-25\n",
       "23   1688    Shipped  David Murphy   Released 2018-12-24\n",
       "24   1516       Dock    John Jones  On Status 2018-12-14\n",
       "25   1242       Dock   James Healy   Released 2018-12-15\n",
       "26   1226  Warehouse   James Healy   Released 2018-12-11\n",
       "27   1991  Warehouse   James Healy   Released 2018-12-11\n",
       "28   1198       Dock  David Murphy   Released 2018-12-17\n",
       "29   1678  Warehouse   James Healy   Released 2018-12-26\n",
       "..    ...        ...           ...        ...        ...\n",
       "70   1364       Dock    John Jones  On Status 2018-12-31\n",
       "71   1411       Dock   James Healy    On Hold 2018-12-14\n",
       "72   1623    Shipped  David Murphy   Released 2018-12-13\n",
       "73   1530       Dock   James Healy   Released 2018-12-24\n",
       "74   1367    Shipped    John Jones   Released 2018-12-20\n",
       "75   1202    Shipped  David Murphy  On Status 2018-12-01\n",
       "76   1801       Dock   James Healy   Released 2018-12-11\n",
       "77   1007       Dock    John Jones  On Status 2018-12-24\n",
       "78   1157       Dock   James Healy   Released 2018-12-15\n",
       "79   1558       Dock  David Murphy   Released 2018-12-07\n",
       "80   1323       Dock   James Healy  On Status 2018-12-03\n",
       "81   1299  Warehouse    John Jones   Released 2018-12-26\n",
       "82   1881  Warehouse  Mary O'Toole   Released 2018-12-31\n",
       "83   1159       Dock  David Murphy    On Hold 2018-12-18\n",
       "84   1883       Dock   Emily Walsh  On Status 2018-12-16\n",
       "85   1537    Shipped    John Jones   Released 2018-12-29\n",
       "86   1799  Warehouse   James Healy   Released 2018-12-07\n",
       "87   1216    Shipped  David Murphy   Released 2018-12-14\n",
       "88   1531    Shipped  Mary O'Toole  On Status 2018-12-15\n",
       "89   1901    Shipped   James Healy   Released 2018-12-02\n",
       "90   1137    Shipped    John Jones    On Hold 2018-12-11\n",
       "91   1318  Warehouse  Mary O'Toole   Released 2018-12-23\n",
       "92   1394    Shipped    John Jones    On Hold 2018-12-07\n",
       "93   1339  Warehouse    John Jones   Released 2018-12-03\n",
       "94   1910    Shipped  David Murphy  On Status 2018-12-24\n",
       "95   1494  Warehouse    John Jones    On Hold 2018-12-23\n",
       "96   1061    Shipped   James Healy    On Hold 2018-12-05\n",
       "97   1399  Warehouse   Emily Walsh   Released 2018-12-17\n",
       "98   1225  Warehouse    John Jones   Released 2018-12-19\n",
       "99   1555       Dock  David Murphy   Released 2018-12-07\n",
       "\n",
       "[100 rows x 5 columns]"
      ]
     },
     "execution_count": 8,
     "metadata": {},
     "output_type": "execute_result"
    }
   ],
   "source": [
    "df = pd.DataFrame(data) # Define dataframe \n",
    "df # Output dataframe"
   ]
  },
  {
   "cell_type": "markdown",
   "metadata": {},
   "source": [
    "## Descriptive Statistics"
   ]
  },
  {
   "cell_type": "code",
   "execution_count": 9,
   "metadata": {},
   "outputs": [
    {
     "data": {
      "text/html": [
       "<div>\n",
       "<style>\n",
       "    .dataframe thead tr:only-child th {\n",
       "        text-align: right;\n",
       "    }\n",
       "\n",
       "    .dataframe thead th {\n",
       "        text-align: left;\n",
       "    }\n",
       "\n",
       "    .dataframe tbody tr th {\n",
       "        vertical-align: top;\n",
       "    }\n",
       "</style>\n",
       "<table border=\"1\" class=\"dataframe\">\n",
       "  <thead>\n",
       "    <tr style=\"text-align: right;\">\n",
       "      <th></th>\n",
       "      <th>Batch</th>\n",
       "    </tr>\n",
       "  </thead>\n",
       "  <tbody>\n",
       "    <tr>\n",
       "      <th>count</th>\n",
       "      <td>100.000000</td>\n",
       "    </tr>\n",
       "    <tr>\n",
       "      <th>mean</th>\n",
       "      <td>1496.220000</td>\n",
       "    </tr>\n",
       "    <tr>\n",
       "      <th>std</th>\n",
       "      <td>276.000717</td>\n",
       "    </tr>\n",
       "    <tr>\n",
       "      <th>min</th>\n",
       "      <td>1007.000000</td>\n",
       "    </tr>\n",
       "    <tr>\n",
       "      <th>25%</th>\n",
       "      <td>1241.250000</td>\n",
       "    </tr>\n",
       "    <tr>\n",
       "      <th>50%</th>\n",
       "      <td>1529.500000</td>\n",
       "    </tr>\n",
       "    <tr>\n",
       "      <th>75%</th>\n",
       "      <td>1731.250000</td>\n",
       "    </tr>\n",
       "    <tr>\n",
       "      <th>max</th>\n",
       "      <td>1991.000000</td>\n",
       "    </tr>\n",
       "  </tbody>\n",
       "</table>\n",
       "</div>"
      ],
      "text/plain": [
       "             Batch\n",
       "count   100.000000\n",
       "mean   1496.220000\n",
       "std     276.000717\n",
       "min    1007.000000\n",
       "25%    1241.250000\n",
       "50%    1529.500000\n",
       "75%    1731.250000\n",
       "max    1991.000000"
      ]
     },
     "execution_count": 9,
     "metadata": {},
     "output_type": "execute_result"
    }
   ],
   "source": [
    "df.describe() # Output descriptive statistics from the dataframe based on Batch number"
   ]
  },
  {
   "cell_type": "markdown",
   "metadata": {},
   "source": [
    "## Analysis of Data per Person Responsible\n",
    "\n",
    "Review batches based on the status of batches by each person responsible.\n",
    "\n",
    "This is an indication of the workload assigned to each person.\n",
    "\n",
    "It is also an indication of which person is dealing with most issues resulting in batches 'on hold' status."
   ]
  },
  {
   "cell_type": "markdown",
   "metadata": {},
   "source": [
    "The histogram below shows the actual breakdown per number of batches assigned to each employee in the data set. Although the probaility of workload distribution is equal for each employee, the actual distribution shows variation."
   ]
  },
  {
   "cell_type": "code",
   "execution_count": 10,
   "metadata": {},
   "outputs": [
    {
     "data": {
      "image/png": "[encoded data removed]",
      "text/plain": [
       "<matplotlib.figure.Figure at 0x2fabcad8358>"
      ]
     },
     "metadata": {},
     "output_type": "display_data"
    }
   ],
   "source": [
    "plt.hist(Responsibles)\n",
    "plt.show()"
   ]
  },
  {
   "cell_type": "code",
   "execution_count": 11,
   "metadata": {
    "collapsed": true
   },
   "outputs": [],
   "source": [
    "Person = df[['Responsible', 'Status']] # Subcategory of the dataframe with person responsible and status of batches assigned to them"
   ]
  },
  {
   "cell_type": "code",
   "execution_count": 12,
   "metadata": {},
   "outputs": [
    {
     "data": {
      "text/html": [
       "<div>\n",
       "<style>\n",
       "    .dataframe thead tr:only-child th {\n",
       "        text-align: right;\n",
       "    }\n",
       "\n",
       "    .dataframe thead th {\n",
       "        text-align: left;\n",
       "    }\n",
       "\n",
       "    .dataframe tbody tr th {\n",
       "        vertical-align: top;\n",
       "    }\n",
       "</style>\n",
       "<table border=\"1\" class=\"dataframe\">\n",
       "  <thead>\n",
       "    <tr style=\"text-align: right;\">\n",
       "      <th></th>\n",
       "      <th>Responsible</th>\n",
       "      <th>Status</th>\n",
       "    </tr>\n",
       "  </thead>\n",
       "  <tbody>\n",
       "    <tr>\n",
       "      <th>0</th>\n",
       "      <td>David Murphy</td>\n",
       "      <td>Released</td>\n",
       "    </tr>\n",
       "    <tr>\n",
       "      <th>1</th>\n",
       "      <td>David Murphy</td>\n",
       "      <td>Released</td>\n",
       "    </tr>\n",
       "    <tr>\n",
       "      <th>2</th>\n",
       "      <td>John Jones</td>\n",
       "      <td>Released</td>\n",
       "    </tr>\n",
       "    <tr>\n",
       "      <th>3</th>\n",
       "      <td>Mary O'Toole</td>\n",
       "      <td>Released</td>\n",
       "    </tr>\n",
       "    <tr>\n",
       "      <th>4</th>\n",
       "      <td>John Jones</td>\n",
       "      <td>Released</td>\n",
       "    </tr>\n",
       "  </tbody>\n",
       "</table>\n",
       "</div>"
      ],
      "text/plain": [
       "    Responsible    Status\n",
       "0  David Murphy  Released\n",
       "1  David Murphy  Released\n",
       "2    John Jones  Released\n",
       "3  Mary O'Toole  Released\n",
       "4    John Jones  Released"
      ]
     },
     "execution_count": 12,
     "metadata": {},
     "output_type": "execute_result"
    }
   ],
   "source": [
    "Person.head() # Display the first 5 headings of the sub dataframe"
   ]
  },
  {
   "cell_type": "markdown",
   "metadata": {},
   "source": [
    "Breakdown per person of the status of batches they are responsible for, can be used as an indicator of progressing workload through the system. The aim is to have all batches at released status for customer use."
   ]
  },
  {
   "cell_type": "code",
   "execution_count": 13,
   "metadata": {},
   "outputs": [
    {
     "data": {
      "text/plain": [
       "Responsible   Status   \n",
       "David Murphy  On Hold       2\n",
       "              On Status     4\n",
       "              Released     12\n",
       "Emily Walsh   On Hold       2\n",
       "              On Status     9\n",
       "              Released      7\n",
       "James Healy   On Hold       4\n",
       "              On Status     5\n",
       "              Released     17\n",
       "John Jones    On Hold       6\n",
       "              On Status    10\n",
       "              Released     10\n",
       "Mary O'Toole  On Hold       2\n",
       "              On Status     4\n",
       "              Released      6\n",
       "dtype: int64"
      ]
     },
     "execution_count": 13,
     "metadata": {},
     "output_type": "execute_result"
    }
   ],
   "source": [
    "df.groupby(['Responsible','Status']).size() # Group the batches by 'Status' per person 'Responsible' "
   ]
  },
  {
   "cell_type": "markdown",
   "metadata": {},
   "source": [
    "Visual representation of the above information shown below in stacked bar chart, showing the breakdown of status of all batches assigned to people responsible."
   ]
  },
  {
   "cell_type": "code",
   "execution_count": 14,
   "metadata": {},
   "outputs": [
    {
     "data": {
      "text/plain": [
       "<matplotlib.axes._subplots.AxesSubplot at 0x2fabcc63ac8>"
      ]
     },
     "execution_count": 14,
     "metadata": {},
     "output_type": "execute_result"
    },
    {
     "data": {
      "image/png": "[encoded data removed]",
      "text/plain": [
       "<matplotlib.figure.Figure at 0x2fabcc14128>"
      ]
     },
     "metadata": {},
     "output_type": "display_data"
    }
   ],
   "source": [
    "df.groupby(['Responsible', 'Status']).size().unstack().plot(kind='bar', stacked=True)"
   ]
  },
  {
   "cell_type": "markdown",
   "metadata": {},
   "source": [
    "The data indicates the person who has the highest work load with the most batches of the group. \n",
    "It also highlights the person who has most number of batches at 'On Hold' status highlighting issues holding 5 batches from his group from release to the customer."
   ]
  },
  {
   "cell_type": "markdown",
   "metadata": {},
   "source": [
    "Pairplot showing batch numbers assigned per person responsible, colour coded per person."
   ]
  },
  {
   "cell_type": "code",
   "execution_count": 15,
   "metadata": {},
   "outputs": [
    {
     "data": {
      "text/plain": [
       "<seaborn.axisgrid.PairGrid at 0x2fabcc304a8>"
      ]
     },
     "execution_count": 15,
     "metadata": {},
     "output_type": "execute_result"
    },
    {
     "data": {
      "image/png": "[encoded data removed]",
      "text/plain": [
       "<matplotlib.figure.Figure at 0x2fabcbd9208>"
      ]
     },
     "metadata": {},
     "output_type": "display_data"
    }
   ],
   "source": [
    "sns.pairplot(df, hue=\"Responsible\") # Seaborn pairplot for those responsible"
   ]
  },
  {
   "cell_type": "markdown",
   "metadata": {},
   "source": [
    "Highest level of batch numbers in the 1100 to 1200 range."
   ]
  },
  {
   "cell_type": "markdown",
   "metadata": {},
   "source": [
    "Visual represenation of target dates set to responsible individuals per person displayed on a dot plot. "
   ]
  },
  {
   "cell_type": "code",
   "execution_count": 16,
   "metadata": {},
   "outputs": [
    {
     "data": {
      "image/png": "[encoded data removed]",
      "text/plain": [
       "<matplotlib.figure.Figure at 0x2fabcfedbe0>"
      ]
     },
     "metadata": {},
     "output_type": "display_data"
    }
   ],
   "source": [
    "plt.plot([Targets], [Responsibles], 'bs') # Plot Target dates vs person responsible in blue squares\n",
    "plt.show() # Show plot"
   ]
  },
  {
   "cell_type": "markdown",
   "metadata": {},
   "source": [
    "Plot shows the spread of target date is reasonably standard across individuals."
   ]
  },
  {
   "cell_type": "markdown",
   "metadata": {},
   "source": [
    "** *** **"
   ]
  },
  {
   "cell_type": "markdown",
   "metadata": {
    "collapsed": true
   },
   "source": [
    "## Analysis of Data per Location\n",
    "\n",
    "Review batches based on the physical location of batches. This is a physical indicator of the product and it proximity to the customer.\n",
    "\n",
    "The process is \n",
    "1. Warehouse \n",
    "2. Dock \n",
    "3. Shipped"
   ]
  },
  {
   "cell_type": "markdown",
   "metadata": {},
   "source": [
    "Histogram below is a visual representation of the breakdown of locations of batches."
   ]
  },
  {
   "cell_type": "code",
   "execution_count": 17,
   "metadata": {},
   "outputs": [
    {
     "data": {
      "image/png": "[encoded data removed]",
      "text/plain": [
       "<matplotlib.figure.Figure at 0x2fabd08d1d0>"
      ]
     },
     "metadata": {},
     "output_type": "display_data"
    }
   ],
   "source": [
    "plt.hist(Locations) # Display histogram of dataframe column 'Locations'\n",
    "plt.show() # Show plot "
   ]
  },
  {
   "cell_type": "markdown",
   "metadata": {},
   "source": [
    "Breakdown of location by status of batches at physical locations. This shows what status batches are at in the different physical locations."
   ]
  },
  {
   "cell_type": "code",
   "execution_count": 18,
   "metadata": {},
   "outputs": [
    {
     "data": {
      "text/plain": [
       "Location   Status   \n",
       "Dock       On Hold       6\n",
       "           On Status    13\n",
       "           Released     15\n",
       "Shipped    On Hold       6\n",
       "           On Status     9\n",
       "           Released     17\n",
       "Warehouse  On Hold       4\n",
       "           On Status    10\n",
       "           Released     20\n",
       "dtype: int64"
      ]
     },
     "execution_count": 18,
     "metadata": {},
     "output_type": "execute_result"
    }
   ],
   "source": [
    "df.groupby(['Location','Status']).size() # Breakdown the dataframe by grouping Location and Status"
   ]
  },
  {
   "cell_type": "markdown",
   "metadata": {},
   "source": [
    "The 'Dock' has the highest number of batches compared to 'Warehouse' or 'Shipped'. Of those in the dock location, 5 are on hold, 11 are on status and 26 are released."
   ]
  },
  {
   "cell_type": "markdown",
   "metadata": {},
   "source": [
    "The following is a breakdown of 'Locations' in a stacked bar chart per person responsible for batches. The person is responsible for ensuring each batch moves through the process to ensure customer target dates are met."
   ]
  },
  {
   "cell_type": "code",
   "execution_count": 19,
   "metadata": {},
   "outputs": [
    {
     "data": {
      "text/plain": [
       "<matplotlib.axes._subplots.AxesSubplot at 0x2fabd1e5a90>"
      ]
     },
     "execution_count": 19,
     "metadata": {},
     "output_type": "execute_result"
    },
    {
     "data": {
      "image/png": "[encoded data removed]",
      "text/plain": [
       "<matplotlib.figure.Figure at 0x2fabd190a20>"
      ]
     },
     "metadata": {},
     "output_type": "display_data"
    }
   ],
   "source": [
    "df.groupby(['Responsible', 'Location']).size().unstack().plot(kind='bar', stacked=True) # Stacked bar chart of Locations per person responsible for batches"
   ]
  },
  {
   "cell_type": "markdown",
   "metadata": {},
   "source": [
    "The stacked bar chart highlights a number of batches in the warehouse and in the dock. Each person is responsible for getting each batch shipped to the customer."
   ]
  },
  {
   "cell_type": "code",
   "execution_count": 20,
   "metadata": {},
   "outputs": [
    {
     "data": {
      "text/plain": [
       "<seaborn.axisgrid.PairGrid at 0x2fab8fae780>"
      ]
     },
     "execution_count": 20,
     "metadata": {},
     "output_type": "execute_result"
    },
    {
     "data": {
      "image/png": "[encoded data removed]",
      "text/plain": [
       "<matplotlib.figure.Figure at 0x2fab8fae048>"
      ]
     },
     "metadata": {},
     "output_type": "display_data"
    }
   ],
   "source": [
    "sns.pairplot(df, hue=\"Location\") # Pairplot by the location of batches"
   ]
  },
  {
   "cell_type": "markdown",
   "metadata": {},
   "source": [
    "** *** **"
   ]
  },
  {
   "cell_type": "markdown",
   "metadata": {},
   "source": [
    "## Analysis of Data per Batch Status\n",
    "\n",
    "Possible Batch Status\n",
    "\n",
    "1. On Status - Interim status prior to release with no issue identified\n",
    "2. On Hold - Issue identified with batch prior to release \n",
    "3. Released - Batch is relased for use by customer"
   ]
  },
  {
   "cell_type": "markdown",
   "metadata": {},
   "source": [
    "Histogram below shows breakdown of batch status."
   ]
  },
  {
   "cell_type": "code",
   "execution_count": 21,
   "metadata": {},
   "outputs": [
    {
     "data": {
      "image/png": "[encoded data removed]",
      "text/plain": [
       "<matplotlib.figure.Figure at 0x2fabce43e10>"
      ]
     },
     "metadata": {},
     "output_type": "display_data"
    }
   ],
   "source": [
    "plt.hist(Statuss) # Histogram of Batches per status \n",
    "plt.show() # Show histogram "
   ]
  },
  {
   "cell_type": "markdown",
   "metadata": {},
   "source": [
    "The objective is to have batches at relased status. This allows visualisation of the breakdown."
   ]
  },
  {
   "cell_type": "markdown",
   "metadata": {},
   "source": [
    "The following is a stacked bar chart showing the breakdown of batches per batch status per physical location "
   ]
  },
  {
   "cell_type": "code",
   "execution_count": 25,
   "metadata": {},
   "outputs": [
    {
     "data": {
      "text/plain": [
       "<matplotlib.axes._subplots.AxesSubplot at 0x2fabd68f710>"
      ]
     },
     "execution_count": 25,
     "metadata": {},
     "output_type": "execute_result"
    },
    {
     "data": {
      "image/png": "[encoded data removed]",
      "text/plain": [
       "<matplotlib.figure.Figure at 0x2fabd6486a0>"
      ]
     },
     "metadata": {},
     "output_type": "display_data"
    }
   ],
   "source": [
    "df.groupby(['Location', 'Status']).size().unstack().plot(kind='bar', stacked=True) # Stacked bar chart of the location of the batches per status"
   ]
  },
  {
   "cell_type": "markdown",
   "metadata": {},
   "source": [
    "The objective is to have the batches shipped so they are in transport to the customer."
   ]
  },
  {
   "cell_type": "markdown",
   "metadata": {},
   "source": [
    "Pairplot displaying the staus of batches per batch number."
   ]
  },
  {
   "cell_type": "code",
   "execution_count": 23,
   "metadata": {},
   "outputs": [
    {
     "data": {
      "text/plain": [
       "<seaborn.axisgrid.PairGrid at 0x2fabd193eb8>"
      ]
     },
     "execution_count": 23,
     "metadata": {},
     "output_type": "execute_result"
    },
    {
     "data": {
      "image/png": "[encoded data removed]",
      "text/plain": [
       "<matplotlib.figure.Figure at 0x2fabd193898>"
      ]
     },
     "metadata": {},
     "output_type": "display_data"
    }
   ],
   "source": [
    "sns.pairplot(df, hue=\"Status\") # Pairplot of status "
   ]
  },
  {
   "cell_type": "markdown",
   "metadata": {},
   "source": [
    "## Analysis of Data by Target Date"
   ]
  },
  {
   "cell_type": "markdown",
   "metadata": {},
   "source": [
    "The objective is for batches to be released and shipped to the customer by the target due date.\n",
    "\n",
    "Below is a dot plot of batch number by target date."
   ]
  },
  {
   "cell_type": "code",
   "execution_count": 26,
   "metadata": {},
   "outputs": [
    {
     "data": {
      "image/png": "[encoded data removed]",
      "text/plain": [
       "<matplotlib.figure.Figure at 0x2fabd549dd8>"
      ]
     },
     "metadata": {},
     "output_type": "display_data"
    }
   ],
   "source": [
    "plt.plot([Targets], [Batch], 'ro') # Plot targets vs batch number in red circles\n",
    "plt.show() # Show plot"
   ]
  },
  {
   "cell_type": "markdown",
   "metadata": {},
   "source": [
    "## References\n",
    "https://pandas.pydata.org/pandas-docs/stable/generated/pandas.date_range.html\n",
    "\n",
    "https://docs.scipy.org/doc/numpy/reference/generated/numpy.random.choice.html\n",
    "\n",
    "https://seaborn.pydata.org/generated/seaborn.lineplot.html\n",
    "\n",
    "https://stackoverflow.com/questions/23415500/pandas-plotting-a-stacked-bar-chart\n",
    "\n",
    "https://pandas.pydata.org/pandas-docs/stable/generated/pandas.DataFrame.loc.html\n",
    "\n",
    "https://seaborn.pydata.org/examples/scatterplot_categorical.html\n",
    "\n",
    "https://github.com/jupyter/help/issues/68\n",
    "\n",
    "https://pandas.pydata.org/pandas-docs/stable/generated/pandas.DataFrame.groupby.html\n",
    "\n",
    "https://medium.com/ibm-data-science-experience/markdown-for-jupyter-notebooks-cheatsheet-386c05aeebed\n",
    "\n"
   ]
  },
  {
   "cell_type": "code",
   "execution_count": null,
   "metadata": {
    "collapsed": true
   },
   "outputs": [],
   "source": []
  }
 ],
 "metadata": {
  "kernelspec": {
   "display_name": "Python 3",
   "language": "python",
   "name": "python3"
  },
  "language_info": {
   "codemirror_mode": {
    "name": "ipython",
    "version": 3
   },
   "file_extension": ".py",
   "mimetype": "text/x-python",
   "name": "python",
   "nbconvert_exporter": "python",
   "pygments_lexer": "ipython3",
   "version": "3.6.3"
  }
 },
 "nbformat": 4,
 "nbformat_minor": 2
}
